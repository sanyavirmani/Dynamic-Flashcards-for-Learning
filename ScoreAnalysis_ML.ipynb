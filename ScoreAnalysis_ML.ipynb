{
 "cells": [
  {
   "cell_type": "markdown",
   "metadata": {
    "id": "PcfN0KwTfRfk"
   },
   "source": [
    "## **DYNAMIC FLASHCARDS FOR LEARNING - MACHINE LEARNING PROJECT**\n",
    "\n",
    "\n",
    "\n",
    "---\n",
    "\n"
   ]
  },
  {
   "cell_type": "markdown",
   "metadata": {
    "id": "sGoadVh-TnXD"
   },
   "source": [
    "**Importing Libraries**"
   ]
  },
  {
   "cell_type": "code",
   "execution_count": 2,
   "metadata": {
    "id": "vaeDTOx6Sy65"
   },
   "outputs": [],
   "source": [
    "import numpy as np\n",
    "import pandas as pd\n",
    "import matplotlib.pyplot as plt"
   ]
  },
  {
   "cell_type": "markdown",
   "metadata": {
    "id": "9KcYsVAETmCK"
   },
   "source": [
    "**Loading the Dataset**"
   ]
  },
  {
   "cell_type": "code",
   "execution_count": 3,
   "metadata": {
    "colab": {
     "base_uri": "https://localhost:8080/"
    },
    "id": "yRmBn8qwTbLP",
    "outputId": "2bd36937-ea90-4489-9710-22046c4e351a"
   },
   "outputs": [
    {
     "name": "stdout",
     "output_type": "stream",
     "text": [
      "      Student_ID Gender DateOfBirth  HighSchool10thPercentage  \\\n",
      "0         604399      f  22-10-1990                     87.80   \n",
      "1         988334      m  15-05-1990                     57.00   \n",
      "2         301647      m  21-08-1989                     77.33   \n",
      "3         582313      m  04-05-1991                     84.30   \n",
      "4         339001      f  30-10-1990                     82.00   \n",
      "...          ...    ...         ...                       ...   \n",
      "2993      103174      f  17-04-1989                     75.00   \n",
      "2994      352811      f  22-07-1991                     84.00   \n",
      "2995      287070      m  24-11-1988                     91.40   \n",
      "2996      317336      m  25-08-1988                     88.64   \n",
      "2997      993701      m  27-05-1992                     77.00   \n",
      "\n",
      "               HighSchool10thBoard  HighSchool12thGraduationYear  \\\n",
      "0                             cbse                          2009   \n",
      "1                             cbse                          2010   \n",
      "2     maharashtra state board,pune                          2007   \n",
      "3                             cbse                          2009   \n",
      "4                             cbse                          2008   \n",
      "...                            ...                           ...   \n",
      "2993                             0                          2005   \n",
      "2994                   state board                          2008   \n",
      "2995                         bsemp                          2006   \n",
      "2996     karnataka education board                          2006   \n",
      "2997                   state board                          2009   \n",
      "\n",
      "      HighSchool12thPercentage        HighSchool12thBoard  CollegeID  \\\n",
      "0                        84.00                       cbse       6920   \n",
      "1                        64.50                       cbse       6624   \n",
      "2                        85.17  amravati divisional board       9084   \n",
      "3                        86.00                       cbse       8195   \n",
      "4                        75.00                       cbse       4889   \n",
      "...                        ...                        ...        ...   \n",
      "2993                     73.00                          0       1263   \n",
      "2994                     77.00                state board       9481   \n",
      "2995                     65.56                      bsemp        547   \n",
      "2996                     65.16  karnataka education board       1629   \n",
      "2997                     75.50                state board       1111   \n",
      "\n",
      "      CollegeTier  ... MechanicalEnggSkills ElectricalEnggSkills  \\\n",
      "0               1  ...                   -1                   -1   \n",
      "1               2  ...                   -1                   -1   \n",
      "2               2  ...                   -1                   -1   \n",
      "3               1  ...                   -1                   -1   \n",
      "4               2  ...                   -1                   -1   \n",
      "...           ...  ...                  ...                  ...   \n",
      "2993            2  ...                   -1                   -1   \n",
      "2994            2  ...                   -1                   -1   \n",
      "2995            2  ...                   -1                   -1   \n",
      "2996            2  ...                   -1                   -1   \n",
      "2997            2  ...                   -1                   -1   \n",
      "\n",
      "      TelecomEnggSkills  CivilEnggSkills  conscientiousnessScore  \\\n",
      "0                    -1               -1                 -0.1590   \n",
      "1                    -1               -1                  1.1336   \n",
      "2                   260               -1                  0.5100   \n",
      "3                    -1               -1                 -0.4463   \n",
      "4                    -1               -1                 -1.4992   \n",
      "...                 ...              ...                     ...   \n",
      "2993                 -1               -1                 -1.1901   \n",
      "2994                 -1               -1                 -0.1082   \n",
      "2995                 -1               -1                 -0.8810   \n",
      "2996                 -1               -1                  1.4374   \n",
      "2997                 -1               -1                 -0.5899   \n",
      "\n",
      "     agreeablenessScore  extraversionScore  nueroticismScore  \\\n",
      "0                0.3789             1.2396           0.14590   \n",
      "1                0.0459             1.2396           0.52620   \n",
      "2               -0.1232             1.5428          -0.29020   \n",
      "3                0.2124             0.3174           0.27270   \n",
      "4               -0.7473            -1.0697           0.06223   \n",
      "...                 ...                ...               ...   \n",
      "2993             0.9688            -1.0697           1.35490   \n",
      "2994             0.0328            -0.4891          -0.29020   \n",
      "2995             0.1888            -0.3440           0.06230   \n",
      "2996             1.2808            -0.4891          -1.46537   \n",
      "2997            -1.9521             0.3174           1.16010   \n",
      "\n",
      "      openess_to_experienceScore  Starting_Salary  \n",
      "0                         0.2889           445000  \n",
      "1                        -0.2859           110000  \n",
      "2                        -0.2875           255000  \n",
      "3                         0.4805           420000  \n",
      "4                         0.1864           200000  \n",
      "...                          ...              ...  \n",
      "2993                      0.0284           120000  \n",
      "2994                      0.5024           120000  \n",
      "2995                      0.6603           385000  \n",
      "2996                      0.5419           530000  \n",
      "2997                     -2.3937           200000  \n",
      "\n",
      "[2998 rows x 34 columns]\n"
     ]
    }
   ],
   "source": [
    "df = pd.read_csv('ScoreAnalysis.csv')\n",
    "print(df)"
   ]
  },
  {
   "cell_type": "markdown",
   "metadata": {
    "id": "mhxtYXCIUU8G"
   },
   "source": [
    "**Analysing the Raw Dataset**"
   ]
  },
  {
   "cell_type": "code",
   "execution_count": 4,
   "metadata": {
    "colab": {
     "base_uri": "https://localhost:8080/",
     "height": 429
    },
    "id": "lQhOmqKzURv7",
    "outputId": "3d5863bb-785f-442d-ab4f-b6d97d2f1ec1"
   },
   "outputs": [
    {
     "data": {
      "text/html": [
       "<div>\n",
       "<style scoped>\n",
       "    .dataframe tbody tr th:only-of-type {\n",
       "        vertical-align: middle;\n",
       "    }\n",
       "\n",
       "    .dataframe tbody tr th {\n",
       "        vertical-align: top;\n",
       "    }\n",
       "\n",
       "    .dataframe thead th {\n",
       "        text-align: right;\n",
       "    }\n",
       "</style>\n",
       "<table border=\"1\" class=\"dataframe\">\n",
       "  <thead>\n",
       "    <tr style=\"text-align: right;\">\n",
       "      <th></th>\n",
       "      <th>Student_ID</th>\n",
       "      <th>Gender</th>\n",
       "      <th>DateOfBirth</th>\n",
       "      <th>HighSchool10thPercentage</th>\n",
       "      <th>HighSchool10thBoard</th>\n",
       "      <th>HighSchool12thGraduationYear</th>\n",
       "      <th>HighSchool12thPercentage</th>\n",
       "      <th>HighSchool12thBoard</th>\n",
       "      <th>CollegeID</th>\n",
       "      <th>CollegeTier</th>\n",
       "      <th>...</th>\n",
       "      <th>MechanicalEnggSkills</th>\n",
       "      <th>ElectricalEnggSkills</th>\n",
       "      <th>TelecomEnggSkills</th>\n",
       "      <th>CivilEnggSkills</th>\n",
       "      <th>conscientiousnessScore</th>\n",
       "      <th>agreeablenessScore</th>\n",
       "      <th>extraversionScore</th>\n",
       "      <th>nueroticismScore</th>\n",
       "      <th>openess_to_experienceScore</th>\n",
       "      <th>Starting_Salary</th>\n",
       "    </tr>\n",
       "  </thead>\n",
       "  <tbody>\n",
       "    <tr>\n",
       "      <th>0</th>\n",
       "      <td>604399</td>\n",
       "      <td>f</td>\n",
       "      <td>22-10-1990</td>\n",
       "      <td>87.80</td>\n",
       "      <td>cbse</td>\n",
       "      <td>2009</td>\n",
       "      <td>84.00</td>\n",
       "      <td>cbse</td>\n",
       "      <td>6920</td>\n",
       "      <td>1</td>\n",
       "      <td>...</td>\n",
       "      <td>-1</td>\n",
       "      <td>-1</td>\n",
       "      <td>-1</td>\n",
       "      <td>-1</td>\n",
       "      <td>-0.1590</td>\n",
       "      <td>0.3789</td>\n",
       "      <td>1.2396</td>\n",
       "      <td>0.14590</td>\n",
       "      <td>0.2889</td>\n",
       "      <td>445000</td>\n",
       "    </tr>\n",
       "    <tr>\n",
       "      <th>1</th>\n",
       "      <td>988334</td>\n",
       "      <td>m</td>\n",
       "      <td>15-05-1990</td>\n",
       "      <td>57.00</td>\n",
       "      <td>cbse</td>\n",
       "      <td>2010</td>\n",
       "      <td>64.50</td>\n",
       "      <td>cbse</td>\n",
       "      <td>6624</td>\n",
       "      <td>2</td>\n",
       "      <td>...</td>\n",
       "      <td>-1</td>\n",
       "      <td>-1</td>\n",
       "      <td>-1</td>\n",
       "      <td>-1</td>\n",
       "      <td>1.1336</td>\n",
       "      <td>0.0459</td>\n",
       "      <td>1.2396</td>\n",
       "      <td>0.52620</td>\n",
       "      <td>-0.2859</td>\n",
       "      <td>110000</td>\n",
       "    </tr>\n",
       "    <tr>\n",
       "      <th>2</th>\n",
       "      <td>301647</td>\n",
       "      <td>m</td>\n",
       "      <td>21-08-1989</td>\n",
       "      <td>77.33</td>\n",
       "      <td>maharashtra state board,pune</td>\n",
       "      <td>2007</td>\n",
       "      <td>85.17</td>\n",
       "      <td>amravati divisional board</td>\n",
       "      <td>9084</td>\n",
       "      <td>2</td>\n",
       "      <td>...</td>\n",
       "      <td>-1</td>\n",
       "      <td>-1</td>\n",
       "      <td>260</td>\n",
       "      <td>-1</td>\n",
       "      <td>0.5100</td>\n",
       "      <td>-0.1232</td>\n",
       "      <td>1.5428</td>\n",
       "      <td>-0.29020</td>\n",
       "      <td>-0.2875</td>\n",
       "      <td>255000</td>\n",
       "    </tr>\n",
       "    <tr>\n",
       "      <th>3</th>\n",
       "      <td>582313</td>\n",
       "      <td>m</td>\n",
       "      <td>04-05-1991</td>\n",
       "      <td>84.30</td>\n",
       "      <td>cbse</td>\n",
       "      <td>2009</td>\n",
       "      <td>86.00</td>\n",
       "      <td>cbse</td>\n",
       "      <td>8195</td>\n",
       "      <td>1</td>\n",
       "      <td>...</td>\n",
       "      <td>-1</td>\n",
       "      <td>-1</td>\n",
       "      <td>-1</td>\n",
       "      <td>-1</td>\n",
       "      <td>-0.4463</td>\n",
       "      <td>0.2124</td>\n",
       "      <td>0.3174</td>\n",
       "      <td>0.27270</td>\n",
       "      <td>0.4805</td>\n",
       "      <td>420000</td>\n",
       "    </tr>\n",
       "    <tr>\n",
       "      <th>4</th>\n",
       "      <td>339001</td>\n",
       "      <td>f</td>\n",
       "      <td>30-10-1990</td>\n",
       "      <td>82.00</td>\n",
       "      <td>cbse</td>\n",
       "      <td>2008</td>\n",
       "      <td>75.00</td>\n",
       "      <td>cbse</td>\n",
       "      <td>4889</td>\n",
       "      <td>2</td>\n",
       "      <td>...</td>\n",
       "      <td>-1</td>\n",
       "      <td>-1</td>\n",
       "      <td>-1</td>\n",
       "      <td>-1</td>\n",
       "      <td>-1.4992</td>\n",
       "      <td>-0.7473</td>\n",
       "      <td>-1.0697</td>\n",
       "      <td>0.06223</td>\n",
       "      <td>0.1864</td>\n",
       "      <td>200000</td>\n",
       "    </tr>\n",
       "    <tr>\n",
       "      <th>5</th>\n",
       "      <td>609356</td>\n",
       "      <td>f</td>\n",
       "      <td>02-12-1989</td>\n",
       "      <td>83.16</td>\n",
       "      <td>icse</td>\n",
       "      <td>2007</td>\n",
       "      <td>77.00</td>\n",
       "      <td>cbse</td>\n",
       "      <td>10950</td>\n",
       "      <td>1</td>\n",
       "      <td>...</td>\n",
       "      <td>-1</td>\n",
       "      <td>-1</td>\n",
       "      <td>313</td>\n",
       "      <td>-1</td>\n",
       "      <td>0.8463</td>\n",
       "      <td>-0.6201</td>\n",
       "      <td>-0.7585</td>\n",
       "      <td>-0.99500</td>\n",
       "      <td>-0.2859</td>\n",
       "      <td>440000</td>\n",
       "    </tr>\n",
       "    <tr>\n",
       "      <th>6</th>\n",
       "      <td>1081649</td>\n",
       "      <td>f</td>\n",
       "      <td>17-04-1989</td>\n",
       "      <td>72.50</td>\n",
       "      <td>state board</td>\n",
       "      <td>2007</td>\n",
       "      <td>53.20</td>\n",
       "      <td>state board</td>\n",
       "      <td>14381</td>\n",
       "      <td>2</td>\n",
       "      <td>...</td>\n",
       "      <td>469</td>\n",
       "      <td>-1</td>\n",
       "      <td>-1</td>\n",
       "      <td>-1</td>\n",
       "      <td>0.1282</td>\n",
       "      <td>-0.4536</td>\n",
       "      <td>0.3174</td>\n",
       "      <td>0.90660</td>\n",
       "      <td>-0.0943</td>\n",
       "      <td>150000</td>\n",
       "    </tr>\n",
       "    <tr>\n",
       "      <th>7</th>\n",
       "      <td>610842</td>\n",
       "      <td>f</td>\n",
       "      <td>11-04-1991</td>\n",
       "      <td>77.00</td>\n",
       "      <td>state board</td>\n",
       "      <td>2009</td>\n",
       "      <td>88.00</td>\n",
       "      <td>state board</td>\n",
       "      <td>13208</td>\n",
       "      <td>2</td>\n",
       "      <td>...</td>\n",
       "      <td>-1</td>\n",
       "      <td>-1</td>\n",
       "      <td>-1</td>\n",
       "      <td>-1</td>\n",
       "      <td>0.1282</td>\n",
       "      <td>0.5454</td>\n",
       "      <td>0.4711</td>\n",
       "      <td>0.90660</td>\n",
       "      <td>-0.2859</td>\n",
       "      <td>105000</td>\n",
       "    </tr>\n",
       "    <tr>\n",
       "      <th>8</th>\n",
       "      <td>1183070</td>\n",
       "      <td>m</td>\n",
       "      <td>25-11-1992</td>\n",
       "      <td>76.80</td>\n",
       "      <td>state board</td>\n",
       "      <td>2010</td>\n",
       "      <td>87.70</td>\n",
       "      <td>state board</td>\n",
       "      <td>5338</td>\n",
       "      <td>2</td>\n",
       "      <td>...</td>\n",
       "      <td>-1</td>\n",
       "      <td>-1</td>\n",
       "      <td>-1</td>\n",
       "      <td>-1</td>\n",
       "      <td>-0.1590</td>\n",
       "      <td>-0.4536</td>\n",
       "      <td>0.1637</td>\n",
       "      <td>0.52620</td>\n",
       "      <td>-0.0943</td>\n",
       "      <td>195000</td>\n",
       "    </tr>\n",
       "    <tr>\n",
       "      <th>9</th>\n",
       "      <td>794062</td>\n",
       "      <td>f</td>\n",
       "      <td>15-03-1993</td>\n",
       "      <td>57.00</td>\n",
       "      <td>state board</td>\n",
       "      <td>2009</td>\n",
       "      <td>73.00</td>\n",
       "      <td>state board</td>\n",
       "      <td>8346</td>\n",
       "      <td>2</td>\n",
       "      <td>...</td>\n",
       "      <td>-1</td>\n",
       "      <td>-1</td>\n",
       "      <td>-1</td>\n",
       "      <td>-1</td>\n",
       "      <td>-0.7335</td>\n",
       "      <td>-0.4536</td>\n",
       "      <td>-0.2974</td>\n",
       "      <td>1.41360</td>\n",
       "      <td>0.6721</td>\n",
       "      <td>200000</td>\n",
       "    </tr>\n",
       "  </tbody>\n",
       "</table>\n",
       "<p>10 rows × 34 columns</p>\n",
       "</div>"
      ],
      "text/plain": [
       "   Student_ID Gender DateOfBirth  HighSchool10thPercentage  \\\n",
       "0      604399      f  22-10-1990                     87.80   \n",
       "1      988334      m  15-05-1990                     57.00   \n",
       "2      301647      m  21-08-1989                     77.33   \n",
       "3      582313      m  04-05-1991                     84.30   \n",
       "4      339001      f  30-10-1990                     82.00   \n",
       "5      609356      f  02-12-1989                     83.16   \n",
       "6     1081649      f  17-04-1989                     72.50   \n",
       "7      610842      f  11-04-1991                     77.00   \n",
       "8     1183070      m  25-11-1992                     76.80   \n",
       "9      794062      f  15-03-1993                     57.00   \n",
       "\n",
       "            HighSchool10thBoard  HighSchool12thGraduationYear  \\\n",
       "0                          cbse                          2009   \n",
       "1                          cbse                          2010   \n",
       "2  maharashtra state board,pune                          2007   \n",
       "3                          cbse                          2009   \n",
       "4                          cbse                          2008   \n",
       "5                          icse                          2007   \n",
       "6                   state board                          2007   \n",
       "7                   state board                          2009   \n",
       "8                   state board                          2010   \n",
       "9                   state board                          2009   \n",
       "\n",
       "   HighSchool12thPercentage        HighSchool12thBoard  CollegeID  \\\n",
       "0                     84.00                       cbse       6920   \n",
       "1                     64.50                       cbse       6624   \n",
       "2                     85.17  amravati divisional board       9084   \n",
       "3                     86.00                       cbse       8195   \n",
       "4                     75.00                       cbse       4889   \n",
       "5                     77.00                       cbse      10950   \n",
       "6                     53.20                state board      14381   \n",
       "7                     88.00                state board      13208   \n",
       "8                     87.70                state board       5338   \n",
       "9                     73.00                state board       8346   \n",
       "\n",
       "   CollegeTier  ... MechanicalEnggSkills ElectricalEnggSkills  \\\n",
       "0            1  ...                   -1                   -1   \n",
       "1            2  ...                   -1                   -1   \n",
       "2            2  ...                   -1                   -1   \n",
       "3            1  ...                   -1                   -1   \n",
       "4            2  ...                   -1                   -1   \n",
       "5            1  ...                   -1                   -1   \n",
       "6            2  ...                  469                   -1   \n",
       "7            2  ...                   -1                   -1   \n",
       "8            2  ...                   -1                   -1   \n",
       "9            2  ...                   -1                   -1   \n",
       "\n",
       "   TelecomEnggSkills  CivilEnggSkills  conscientiousnessScore  \\\n",
       "0                 -1               -1                 -0.1590   \n",
       "1                 -1               -1                  1.1336   \n",
       "2                260               -1                  0.5100   \n",
       "3                 -1               -1                 -0.4463   \n",
       "4                 -1               -1                 -1.4992   \n",
       "5                313               -1                  0.8463   \n",
       "6                 -1               -1                  0.1282   \n",
       "7                 -1               -1                  0.1282   \n",
       "8                 -1               -1                 -0.1590   \n",
       "9                 -1               -1                 -0.7335   \n",
       "\n",
       "  agreeablenessScore  extraversionScore  nueroticismScore  \\\n",
       "0             0.3789             1.2396           0.14590   \n",
       "1             0.0459             1.2396           0.52620   \n",
       "2            -0.1232             1.5428          -0.29020   \n",
       "3             0.2124             0.3174           0.27270   \n",
       "4            -0.7473            -1.0697           0.06223   \n",
       "5            -0.6201            -0.7585          -0.99500   \n",
       "6            -0.4536             0.3174           0.90660   \n",
       "7             0.5454             0.4711           0.90660   \n",
       "8            -0.4536             0.1637           0.52620   \n",
       "9            -0.4536            -0.2974           1.41360   \n",
       "\n",
       "   openess_to_experienceScore  Starting_Salary  \n",
       "0                      0.2889           445000  \n",
       "1                     -0.2859           110000  \n",
       "2                     -0.2875           255000  \n",
       "3                      0.4805           420000  \n",
       "4                      0.1864           200000  \n",
       "5                     -0.2859           440000  \n",
       "6                     -0.0943           150000  \n",
       "7                     -0.2859           105000  \n",
       "8                     -0.0943           195000  \n",
       "9                      0.6721           200000  \n",
       "\n",
       "[10 rows x 34 columns]"
      ]
     },
     "execution_count": 4,
     "metadata": {},
     "output_type": "execute_result"
    }
   ],
   "source": [
    "df.head(10)"
   ]
  },
  {
   "cell_type": "code",
   "execution_count": 5,
   "metadata": {
    "colab": {
     "base_uri": "https://localhost:8080/",
     "height": 447
    },
    "id": "w-mwQdugUbMJ",
    "outputId": "5f163e05-4296-4944-a25d-4ee5bf2406a9"
   },
   "outputs": [
    {
     "data": {
      "text/html": [
       "<div>\n",
       "<style scoped>\n",
       "    .dataframe tbody tr th:only-of-type {\n",
       "        vertical-align: middle;\n",
       "    }\n",
       "\n",
       "    .dataframe tbody tr th {\n",
       "        vertical-align: top;\n",
       "    }\n",
       "\n",
       "    .dataframe thead th {\n",
       "        text-align: right;\n",
       "    }\n",
       "</style>\n",
       "<table border=\"1\" class=\"dataframe\">\n",
       "  <thead>\n",
       "    <tr style=\"text-align: right;\">\n",
       "      <th></th>\n",
       "      <th>Student_ID</th>\n",
       "      <th>Gender</th>\n",
       "      <th>DateOfBirth</th>\n",
       "      <th>HighSchool10thPercentage</th>\n",
       "      <th>HighSchool10thBoard</th>\n",
       "      <th>HighSchool12thGraduationYear</th>\n",
       "      <th>HighSchool12thPercentage</th>\n",
       "      <th>HighSchool12thBoard</th>\n",
       "      <th>CollegeID</th>\n",
       "      <th>CollegeTier</th>\n",
       "      <th>...</th>\n",
       "      <th>MechanicalEnggSkills</th>\n",
       "      <th>ElectricalEnggSkills</th>\n",
       "      <th>TelecomEnggSkills</th>\n",
       "      <th>CivilEnggSkills</th>\n",
       "      <th>conscientiousnessScore</th>\n",
       "      <th>agreeablenessScore</th>\n",
       "      <th>extraversionScore</th>\n",
       "      <th>nueroticismScore</th>\n",
       "      <th>openess_to_experienceScore</th>\n",
       "      <th>Starting_Salary</th>\n",
       "    </tr>\n",
       "  </thead>\n",
       "  <tbody>\n",
       "    <tr>\n",
       "      <th>2988</th>\n",
       "      <td>339451</td>\n",
       "      <td>f</td>\n",
       "      <td>27-04-1991</td>\n",
       "      <td>85.00</td>\n",
       "      <td>cbse</td>\n",
       "      <td>2008</td>\n",
       "      <td>95.00</td>\n",
       "      <td>intermediate</td>\n",
       "      <td>4415</td>\n",
       "      <td>2</td>\n",
       "      <td>...</td>\n",
       "      <td>-1</td>\n",
       "      <td>-1</td>\n",
       "      <td>-1</td>\n",
       "      <td>-1</td>\n",
       "      <td>0.3555</td>\n",
       "      <td>0.6568</td>\n",
       "      <td>0.3817</td>\n",
       "      <td>-0.64280</td>\n",
       "      <td>0.4234</td>\n",
       "      <td>420000</td>\n",
       "    </tr>\n",
       "    <tr>\n",
       "      <th>2989</th>\n",
       "      <td>1069569</td>\n",
       "      <td>m</td>\n",
       "      <td>13-07-1993</td>\n",
       "      <td>81.10</td>\n",
       "      <td>state board</td>\n",
       "      <td>2010</td>\n",
       "      <td>86.70</td>\n",
       "      <td>state board</td>\n",
       "      <td>11090</td>\n",
       "      <td>2</td>\n",
       "      <td>...</td>\n",
       "      <td>-1</td>\n",
       "      <td>-1</td>\n",
       "      <td>-1</td>\n",
       "      <td>-1</td>\n",
       "      <td>1.5644</td>\n",
       "      <td>0.8784</td>\n",
       "      <td>0.7785</td>\n",
       "      <td>-1.50210</td>\n",
       "      <td>0.6721</td>\n",
       "      <td>300000</td>\n",
       "    </tr>\n",
       "    <tr>\n",
       "      <th>2990</th>\n",
       "      <td>320298</td>\n",
       "      <td>m</td>\n",
       "      <td>11-01-1989</td>\n",
       "      <td>69.30</td>\n",
       "      <td>board of secondary school education</td>\n",
       "      <td>2006</td>\n",
       "      <td>89.60</td>\n",
       "      <td>board of intermeadiate education</td>\n",
       "      <td>5015</td>\n",
       "      <td>2</td>\n",
       "      <td>...</td>\n",
       "      <td>-1</td>\n",
       "      <td>-1</td>\n",
       "      <td>-1</td>\n",
       "      <td>-1</td>\n",
       "      <td>-0.2628</td>\n",
       "      <td>0.2668</td>\n",
       "      <td>0.5994</td>\n",
       "      <td>-0.29020</td>\n",
       "      <td>-1.0774</td>\n",
       "      <td>500000</td>\n",
       "    </tr>\n",
       "    <tr>\n",
       "      <th>2991</th>\n",
       "      <td>35346</td>\n",
       "      <td>m</td>\n",
       "      <td>23-02-1985</td>\n",
       "      <td>70.00</td>\n",
       "      <td>icse</td>\n",
       "      <td>2003</td>\n",
       "      <td>83.30</td>\n",
       "      <td>isc</td>\n",
       "      <td>44</td>\n",
       "      <td>2</td>\n",
       "      <td>...</td>\n",
       "      <td>-1</td>\n",
       "      <td>-1</td>\n",
       "      <td>-1</td>\n",
       "      <td>-1</td>\n",
       "      <td>0.0464</td>\n",
       "      <td>0.6568</td>\n",
       "      <td>0.3817</td>\n",
       "      <td>-0.76030</td>\n",
       "      <td>-0.7615</td>\n",
       "      <td>445000</td>\n",
       "    </tr>\n",
       "    <tr>\n",
       "      <th>2992</th>\n",
       "      <td>114364</td>\n",
       "      <td>m</td>\n",
       "      <td>08-02-1986</td>\n",
       "      <td>91.00</td>\n",
       "      <td>0</td>\n",
       "      <td>2003</td>\n",
       "      <td>73.00</td>\n",
       "      <td>0</td>\n",
       "      <td>1310</td>\n",
       "      <td>2</td>\n",
       "      <td>...</td>\n",
       "      <td>-1</td>\n",
       "      <td>-1</td>\n",
       "      <td>-1</td>\n",
       "      <td>-1</td>\n",
       "      <td>0.8192</td>\n",
       "      <td>1.4368</td>\n",
       "      <td>-0.0537</td>\n",
       "      <td>-1.81790</td>\n",
       "      <td>0.8183</td>\n",
       "      <td>400000</td>\n",
       "    </tr>\n",
       "    <tr>\n",
       "      <th>2993</th>\n",
       "      <td>103174</td>\n",
       "      <td>f</td>\n",
       "      <td>17-04-1989</td>\n",
       "      <td>75.00</td>\n",
       "      <td>0</td>\n",
       "      <td>2005</td>\n",
       "      <td>73.00</td>\n",
       "      <td>0</td>\n",
       "      <td>1263</td>\n",
       "      <td>2</td>\n",
       "      <td>...</td>\n",
       "      <td>-1</td>\n",
       "      <td>-1</td>\n",
       "      <td>-1</td>\n",
       "      <td>-1</td>\n",
       "      <td>-1.1901</td>\n",
       "      <td>0.9688</td>\n",
       "      <td>-1.0697</td>\n",
       "      <td>1.35490</td>\n",
       "      <td>0.0284</td>\n",
       "      <td>120000</td>\n",
       "    </tr>\n",
       "    <tr>\n",
       "      <th>2994</th>\n",
       "      <td>352811</td>\n",
       "      <td>f</td>\n",
       "      <td>22-07-1991</td>\n",
       "      <td>84.00</td>\n",
       "      <td>state board</td>\n",
       "      <td>2008</td>\n",
       "      <td>77.00</td>\n",
       "      <td>state board</td>\n",
       "      <td>9481</td>\n",
       "      <td>2</td>\n",
       "      <td>...</td>\n",
       "      <td>-1</td>\n",
       "      <td>-1</td>\n",
       "      <td>-1</td>\n",
       "      <td>-1</td>\n",
       "      <td>-0.1082</td>\n",
       "      <td>0.0328</td>\n",
       "      <td>-0.4891</td>\n",
       "      <td>-0.29020</td>\n",
       "      <td>0.5024</td>\n",
       "      <td>120000</td>\n",
       "    </tr>\n",
       "    <tr>\n",
       "      <th>2995</th>\n",
       "      <td>287070</td>\n",
       "      <td>m</td>\n",
       "      <td>24-11-1988</td>\n",
       "      <td>91.40</td>\n",
       "      <td>bsemp</td>\n",
       "      <td>2006</td>\n",
       "      <td>65.56</td>\n",
       "      <td>bsemp</td>\n",
       "      <td>547</td>\n",
       "      <td>2</td>\n",
       "      <td>...</td>\n",
       "      <td>-1</td>\n",
       "      <td>-1</td>\n",
       "      <td>-1</td>\n",
       "      <td>-1</td>\n",
       "      <td>-0.8810</td>\n",
       "      <td>0.1888</td>\n",
       "      <td>-0.3440</td>\n",
       "      <td>0.06230</td>\n",
       "      <td>0.6603</td>\n",
       "      <td>385000</td>\n",
       "    </tr>\n",
       "    <tr>\n",
       "      <th>2996</th>\n",
       "      <td>317336</td>\n",
       "      <td>m</td>\n",
       "      <td>25-08-1988</td>\n",
       "      <td>88.64</td>\n",
       "      <td>karnataka education board</td>\n",
       "      <td>2006</td>\n",
       "      <td>65.16</td>\n",
       "      <td>karnataka education board</td>\n",
       "      <td>1629</td>\n",
       "      <td>2</td>\n",
       "      <td>...</td>\n",
       "      <td>-1</td>\n",
       "      <td>-1</td>\n",
       "      <td>-1</td>\n",
       "      <td>-1</td>\n",
       "      <td>1.4374</td>\n",
       "      <td>1.2808</td>\n",
       "      <td>-0.4891</td>\n",
       "      <td>-1.46537</td>\n",
       "      <td>0.5419</td>\n",
       "      <td>530000</td>\n",
       "    </tr>\n",
       "    <tr>\n",
       "      <th>2997</th>\n",
       "      <td>993701</td>\n",
       "      <td>m</td>\n",
       "      <td>27-05-1992</td>\n",
       "      <td>77.00</td>\n",
       "      <td>state board</td>\n",
       "      <td>2009</td>\n",
       "      <td>75.50</td>\n",
       "      <td>state board</td>\n",
       "      <td>1111</td>\n",
       "      <td>2</td>\n",
       "      <td>...</td>\n",
       "      <td>-1</td>\n",
       "      <td>-1</td>\n",
       "      <td>-1</td>\n",
       "      <td>-1</td>\n",
       "      <td>-0.5899</td>\n",
       "      <td>-1.9521</td>\n",
       "      <td>0.3174</td>\n",
       "      <td>1.16010</td>\n",
       "      <td>-2.3937</td>\n",
       "      <td>200000</td>\n",
       "    </tr>\n",
       "  </tbody>\n",
       "</table>\n",
       "<p>10 rows × 34 columns</p>\n",
       "</div>"
      ],
      "text/plain": [
       "      Student_ID Gender DateOfBirth  HighSchool10thPercentage  \\\n",
       "2988      339451      f  27-04-1991                     85.00   \n",
       "2989     1069569      m  13-07-1993                     81.10   \n",
       "2990      320298      m  11-01-1989                     69.30   \n",
       "2991       35346      m  23-02-1985                     70.00   \n",
       "2992      114364      m  08-02-1986                     91.00   \n",
       "2993      103174      f  17-04-1989                     75.00   \n",
       "2994      352811      f  22-07-1991                     84.00   \n",
       "2995      287070      m  24-11-1988                     91.40   \n",
       "2996      317336      m  25-08-1988                     88.64   \n",
       "2997      993701      m  27-05-1992                     77.00   \n",
       "\n",
       "                      HighSchool10thBoard  HighSchool12thGraduationYear  \\\n",
       "2988                                 cbse                          2008   \n",
       "2989                          state board                          2010   \n",
       "2990  board of secondary school education                          2006   \n",
       "2991                                 icse                          2003   \n",
       "2992                                    0                          2003   \n",
       "2993                                    0                          2005   \n",
       "2994                          state board                          2008   \n",
       "2995                                bsemp                          2006   \n",
       "2996            karnataka education board                          2006   \n",
       "2997                          state board                          2009   \n",
       "\n",
       "      HighSchool12thPercentage               HighSchool12thBoard  CollegeID  \\\n",
       "2988                     95.00                      intermediate       4415   \n",
       "2989                     86.70                       state board      11090   \n",
       "2990                     89.60  board of intermeadiate education       5015   \n",
       "2991                     83.30                               isc         44   \n",
       "2992                     73.00                                 0       1310   \n",
       "2993                     73.00                                 0       1263   \n",
       "2994                     77.00                       state board       9481   \n",
       "2995                     65.56                             bsemp        547   \n",
       "2996                     65.16         karnataka education board       1629   \n",
       "2997                     75.50                       state board       1111   \n",
       "\n",
       "      CollegeTier  ... MechanicalEnggSkills ElectricalEnggSkills  \\\n",
       "2988            2  ...                   -1                   -1   \n",
       "2989            2  ...                   -1                   -1   \n",
       "2990            2  ...                   -1                   -1   \n",
       "2991            2  ...                   -1                   -1   \n",
       "2992            2  ...                   -1                   -1   \n",
       "2993            2  ...                   -1                   -1   \n",
       "2994            2  ...                   -1                   -1   \n",
       "2995            2  ...                   -1                   -1   \n",
       "2996            2  ...                   -1                   -1   \n",
       "2997            2  ...                   -1                   -1   \n",
       "\n",
       "      TelecomEnggSkills  CivilEnggSkills  conscientiousnessScore  \\\n",
       "2988                 -1               -1                  0.3555   \n",
       "2989                 -1               -1                  1.5644   \n",
       "2990                 -1               -1                 -0.2628   \n",
       "2991                 -1               -1                  0.0464   \n",
       "2992                 -1               -1                  0.8192   \n",
       "2993                 -1               -1                 -1.1901   \n",
       "2994                 -1               -1                 -0.1082   \n",
       "2995                 -1               -1                 -0.8810   \n",
       "2996                 -1               -1                  1.4374   \n",
       "2997                 -1               -1                 -0.5899   \n",
       "\n",
       "     agreeablenessScore  extraversionScore  nueroticismScore  \\\n",
       "2988             0.6568             0.3817          -0.64280   \n",
       "2989             0.8784             0.7785          -1.50210   \n",
       "2990             0.2668             0.5994          -0.29020   \n",
       "2991             0.6568             0.3817          -0.76030   \n",
       "2992             1.4368            -0.0537          -1.81790   \n",
       "2993             0.9688            -1.0697           1.35490   \n",
       "2994             0.0328            -0.4891          -0.29020   \n",
       "2995             0.1888            -0.3440           0.06230   \n",
       "2996             1.2808            -0.4891          -1.46537   \n",
       "2997            -1.9521             0.3174           1.16010   \n",
       "\n",
       "      openess_to_experienceScore  Starting_Salary  \n",
       "2988                      0.4234           420000  \n",
       "2989                      0.6721           300000  \n",
       "2990                     -1.0774           500000  \n",
       "2991                     -0.7615           445000  \n",
       "2992                      0.8183           400000  \n",
       "2993                      0.0284           120000  \n",
       "2994                      0.5024           120000  \n",
       "2995                      0.6603           385000  \n",
       "2996                      0.5419           530000  \n",
       "2997                     -2.3937           200000  \n",
       "\n",
       "[10 rows x 34 columns]"
      ]
     },
     "execution_count": 5,
     "metadata": {},
     "output_type": "execute_result"
    }
   ],
   "source": [
    "df.tail(10)"
   ]
  },
  {
   "cell_type": "code",
   "execution_count": 6,
   "metadata": {
    "colab": {
     "base_uri": "https://localhost:8080/"
    },
    "id": "AdlOzOvkU8SN",
    "outputId": "8da46da1-bffe-4728-8ec5-1f8f5f0282b2"
   },
   "outputs": [
    {
     "name": "stdout",
     "output_type": "stream",
     "text": [
      "<class 'pandas.core.frame.DataFrame'>\n",
      "RangeIndex: 2998 entries, 0 to 2997\n",
      "Data columns (total 34 columns):\n",
      " #   Column                        Non-Null Count  Dtype  \n",
      "---  ------                        --------------  -----  \n",
      " 0   Student_ID                    2998 non-null   int64  \n",
      " 1   Gender                        2998 non-null   object \n",
      " 2   DateOfBirth                   2998 non-null   object \n",
      " 3   HighSchool10thPercentage      2998 non-null   float64\n",
      " 4   HighSchool10thBoard           2998 non-null   object \n",
      " 5   HighSchool12thGraduationYear  2998 non-null   int64  \n",
      " 6   HighSchool12thPercentage      2998 non-null   float64\n",
      " 7   HighSchool12thBoard           2998 non-null   object \n",
      " 8   CollegeID                     2998 non-null   int64  \n",
      " 9   CollegeTier                   2998 non-null   int64  \n",
      " 10  DegreeType                    2998 non-null   object \n",
      " 11  MajorSpecialization           2998 non-null   object \n",
      " 12  collegeGPA                    2998 non-null   float64\n",
      " 13  CollegeCityID                 2998 non-null   int64  \n",
      " 14  CollegeCityTier               2998 non-null   int64  \n",
      " 15  CollegeState                  2998 non-null   object \n",
      " 16  GraduationYear                2998 non-null   int64  \n",
      " 17  EnglishScore                  2998 non-null   int64  \n",
      " 18  LogicalReasoningScore         2998 non-null   int64  \n",
      " 19  QuantitativeAptitudeScore     2998 non-null   int64  \n",
      " 20  IndustryDomain                2998 non-null   float64\n",
      " 21  ProgrammingSkills             2998 non-null   int64  \n",
      " 22  ElectronicsAndSemiconSkills   2998 non-null   int64  \n",
      " 23  ComputerScienceSkills         2998 non-null   int64  \n",
      " 24  MechanicalEnggSkills          2998 non-null   int64  \n",
      " 25  ElectricalEnggSkills          2998 non-null   int64  \n",
      " 26  TelecomEnggSkills             2998 non-null   int64  \n",
      " 27  CivilEnggSkills               2998 non-null   int64  \n",
      " 28  conscientiousnessScore        2998 non-null   float64\n",
      " 29  agreeablenessScore            2998 non-null   float64\n",
      " 30  extraversionScore             2998 non-null   float64\n",
      " 31  nueroticismScore              2998 non-null   float64\n",
      " 32  openess_to_experienceScore    2998 non-null   float64\n",
      " 33  Starting_Salary               2998 non-null   int64  \n",
      "dtypes: float64(9), int64(18), object(7)\n",
      "memory usage: 796.5+ KB\n"
     ]
    }
   ],
   "source": [
    "df.info()"
   ]
  },
  {
   "cell_type": "code",
   "execution_count": 7,
   "metadata": {
    "colab": {
     "base_uri": "https://localhost:8080/",
     "height": 349
    },
    "id": "vnWbB8UUV5pG",
    "outputId": "6e909bb7-0105-4ed3-aeca-f367e32d7bf8"
   },
   "outputs": [
    {
     "data": {
      "text/html": [
       "<div>\n",
       "<style scoped>\n",
       "    .dataframe tbody tr th:only-of-type {\n",
       "        vertical-align: middle;\n",
       "    }\n",
       "\n",
       "    .dataframe tbody tr th {\n",
       "        vertical-align: top;\n",
       "    }\n",
       "\n",
       "    .dataframe thead th {\n",
       "        text-align: right;\n",
       "    }\n",
       "</style>\n",
       "<table border=\"1\" class=\"dataframe\">\n",
       "  <thead>\n",
       "    <tr style=\"text-align: right;\">\n",
       "      <th></th>\n",
       "      <th>Student_ID</th>\n",
       "      <th>HighSchool10thPercentage</th>\n",
       "      <th>HighSchool12thGraduationYear</th>\n",
       "      <th>HighSchool12thPercentage</th>\n",
       "      <th>CollegeID</th>\n",
       "      <th>CollegeTier</th>\n",
       "      <th>collegeGPA</th>\n",
       "      <th>CollegeCityID</th>\n",
       "      <th>CollegeCityTier</th>\n",
       "      <th>GraduationYear</th>\n",
       "      <th>...</th>\n",
       "      <th>MechanicalEnggSkills</th>\n",
       "      <th>ElectricalEnggSkills</th>\n",
       "      <th>TelecomEnggSkills</th>\n",
       "      <th>CivilEnggSkills</th>\n",
       "      <th>conscientiousnessScore</th>\n",
       "      <th>agreeablenessScore</th>\n",
       "      <th>extraversionScore</th>\n",
       "      <th>nueroticismScore</th>\n",
       "      <th>openess_to_experienceScore</th>\n",
       "      <th>Starting_Salary</th>\n",
       "    </tr>\n",
       "  </thead>\n",
       "  <tbody>\n",
       "    <tr>\n",
       "      <th>count</th>\n",
       "      <td>2.998000e+03</td>\n",
       "      <td>2998.000000</td>\n",
       "      <td>2998.000000</td>\n",
       "      <td>2998.000000</td>\n",
       "      <td>2998.000000</td>\n",
       "      <td>2998.000000</td>\n",
       "      <td>2998.000000</td>\n",
       "      <td>2998.000000</td>\n",
       "      <td>2998.000000</td>\n",
       "      <td>2998.000000</td>\n",
       "      <td>...</td>\n",
       "      <td>2998.000000</td>\n",
       "      <td>2998.000000</td>\n",
       "      <td>2998.000000</td>\n",
       "      <td>2998.000000</td>\n",
       "      <td>2998.000000</td>\n",
       "      <td>2998.000000</td>\n",
       "      <td>2998.000000</td>\n",
       "      <td>2998.000000</td>\n",
       "      <td>2998.000000</td>\n",
       "      <td>2.998000e+03</td>\n",
       "    </tr>\n",
       "    <tr>\n",
       "      <th>mean</th>\n",
       "      <td>6.648926e+05</td>\n",
       "      <td>77.666264</td>\n",
       "      <td>2008.080720</td>\n",
       "      <td>74.341061</td>\n",
       "      <td>5210.210807</td>\n",
       "      <td>1.924616</td>\n",
       "      <td>71.509857</td>\n",
       "      <td>5210.210807</td>\n",
       "      <td>0.296197</td>\n",
       "      <td>2011.939960</td>\n",
       "      <td>...</td>\n",
       "      <td>24.138759</td>\n",
       "      <td>16.267845</td>\n",
       "      <td>31.068379</td>\n",
       "      <td>1.946965</td>\n",
       "      <td>-0.038714</td>\n",
       "      <td>0.126217</td>\n",
       "      <td>-0.008662</td>\n",
       "      <td>-0.145965</td>\n",
       "      <td>-0.141111</td>\n",
       "      <td>3.051748e+05</td>\n",
       "    </tr>\n",
       "    <tr>\n",
       "      <th>std</th>\n",
       "      <td>3.648951e+05</td>\n",
       "      <td>10.002785</td>\n",
       "      <td>1.631814</td>\n",
       "      <td>11.120299</td>\n",
       "      <td>4776.609877</td>\n",
       "      <td>0.264053</td>\n",
       "      <td>8.122462</td>\n",
       "      <td>4776.609877</td>\n",
       "      <td>0.456655</td>\n",
       "      <td>36.780582</td>\n",
       "      <td>...</td>\n",
       "      <td>99.785138</td>\n",
       "      <td>86.054739</td>\n",
       "      <td>103.552963</td>\n",
       "      <td>32.241501</td>\n",
       "      <td>1.024974</td>\n",
       "      <td>0.955831</td>\n",
       "      <td>0.962695</td>\n",
       "      <td>1.012901</td>\n",
       "      <td>1.007134</td>\n",
       "      <td>2.123312e+05</td>\n",
       "    </tr>\n",
       "    <tr>\n",
       "      <th>min</th>\n",
       "      <td>1.124400e+04</td>\n",
       "      <td>43.000000</td>\n",
       "      <td>1998.000000</td>\n",
       "      <td>40.000000</td>\n",
       "      <td>2.000000</td>\n",
       "      <td>1.000000</td>\n",
       "      <td>6.630000</td>\n",
       "      <td>2.000000</td>\n",
       "      <td>0.000000</td>\n",
       "      <td>0.000000</td>\n",
       "      <td>...</td>\n",
       "      <td>-1.000000</td>\n",
       "      <td>-1.000000</td>\n",
       "      <td>-1.000000</td>\n",
       "      <td>-1.000000</td>\n",
       "      <td>-3.893300</td>\n",
       "      <td>-5.781600</td>\n",
       "      <td>-4.600900</td>\n",
       "      <td>-2.643000</td>\n",
       "      <td>-7.375700</td>\n",
       "      <td>3.500000e+04</td>\n",
       "    </tr>\n",
       "    <tr>\n",
       "      <th>25%</th>\n",
       "      <td>3.334648e+05</td>\n",
       "      <td>71.140000</td>\n",
       "      <td>2007.000000</td>\n",
       "      <td>66.000000</td>\n",
       "      <td>526.250000</td>\n",
       "      <td>2.000000</td>\n",
       "      <td>66.530000</td>\n",
       "      <td>526.250000</td>\n",
       "      <td>0.000000</td>\n",
       "      <td>2012.000000</td>\n",
       "      <td>...</td>\n",
       "      <td>-1.000000</td>\n",
       "      <td>-1.000000</td>\n",
       "      <td>-1.000000</td>\n",
       "      <td>-1.000000</td>\n",
       "      <td>-0.649100</td>\n",
       "      <td>-0.435300</td>\n",
       "      <td>-0.604800</td>\n",
       "      <td>-0.868200</td>\n",
       "      <td>-0.669200</td>\n",
       "      <td>1.800000e+05</td>\n",
       "    </tr>\n",
       "    <tr>\n",
       "      <th>50%</th>\n",
       "      <td>6.396945e+05</td>\n",
       "      <td>78.965000</td>\n",
       "      <td>2008.000000</td>\n",
       "      <td>74.000000</td>\n",
       "      <td>4027.500000</td>\n",
       "      <td>2.000000</td>\n",
       "      <td>71.800000</td>\n",
       "      <td>4027.500000</td>\n",
       "      <td>0.000000</td>\n",
       "      <td>2013.000000</td>\n",
       "      <td>...</td>\n",
       "      <td>-1.000000</td>\n",
       "      <td>-1.000000</td>\n",
       "      <td>-1.000000</td>\n",
       "      <td>-1.000000</td>\n",
       "      <td>0.046400</td>\n",
       "      <td>0.212400</td>\n",
       "      <td>0.091400</td>\n",
       "      <td>-0.172700</td>\n",
       "      <td>-0.094300</td>\n",
       "      <td>3.000000e+05</td>\n",
       "    </tr>\n",
       "    <tr>\n",
       "      <th>75%</th>\n",
       "      <td>9.951770e+05</td>\n",
       "      <td>85.600000</td>\n",
       "      <td>2009.000000</td>\n",
       "      <td>82.600000</td>\n",
       "      <td>8822.250000</td>\n",
       "      <td>2.000000</td>\n",
       "      <td>76.300000</td>\n",
       "      <td>8822.250000</td>\n",
       "      <td>1.000000</td>\n",
       "      <td>2014.000000</td>\n",
       "      <td>...</td>\n",
       "      <td>-1.000000</td>\n",
       "      <td>-1.000000</td>\n",
       "      <td>-1.000000</td>\n",
       "      <td>-1.000000</td>\n",
       "      <td>0.702700</td>\n",
       "      <td>0.812800</td>\n",
       "      <td>0.672000</td>\n",
       "      <td>0.526200</td>\n",
       "      <td>0.502400</td>\n",
       "      <td>3.700000e+05</td>\n",
       "    </tr>\n",
       "    <tr>\n",
       "      <th>max</th>\n",
       "      <td>1.297877e+06</td>\n",
       "      <td>97.760000</td>\n",
       "      <td>2012.000000</td>\n",
       "      <td>98.700000</td>\n",
       "      <td>18409.000000</td>\n",
       "      <td>2.000000</td>\n",
       "      <td>99.930000</td>\n",
       "      <td>18409.000000</td>\n",
       "      <td>1.000000</td>\n",
       "      <td>2017.000000</td>\n",
       "      <td>...</td>\n",
       "      <td>623.000000</td>\n",
       "      <td>660.000000</td>\n",
       "      <td>548.000000</td>\n",
       "      <td>500.000000</td>\n",
       "      <td>1.995300</td>\n",
       "      <td>1.904800</td>\n",
       "      <td>2.161700</td>\n",
       "      <td>3.352500</td>\n",
       "      <td>1.630200</td>\n",
       "      <td>4.000000e+06</td>\n",
       "    </tr>\n",
       "  </tbody>\n",
       "</table>\n",
       "<p>8 rows × 27 columns</p>\n",
       "</div>"
      ],
      "text/plain": [
       "         Student_ID  HighSchool10thPercentage  HighSchool12thGraduationYear  \\\n",
       "count  2.998000e+03               2998.000000                   2998.000000   \n",
       "mean   6.648926e+05                 77.666264                   2008.080720   \n",
       "std    3.648951e+05                 10.002785                      1.631814   \n",
       "min    1.124400e+04                 43.000000                   1998.000000   \n",
       "25%    3.334648e+05                 71.140000                   2007.000000   \n",
       "50%    6.396945e+05                 78.965000                   2008.000000   \n",
       "75%    9.951770e+05                 85.600000                   2009.000000   \n",
       "max    1.297877e+06                 97.760000                   2012.000000   \n",
       "\n",
       "       HighSchool12thPercentage     CollegeID  CollegeTier   collegeGPA  \\\n",
       "count               2998.000000   2998.000000  2998.000000  2998.000000   \n",
       "mean                  74.341061   5210.210807     1.924616    71.509857   \n",
       "std                   11.120299   4776.609877     0.264053     8.122462   \n",
       "min                   40.000000      2.000000     1.000000     6.630000   \n",
       "25%                   66.000000    526.250000     2.000000    66.530000   \n",
       "50%                   74.000000   4027.500000     2.000000    71.800000   \n",
       "75%                   82.600000   8822.250000     2.000000    76.300000   \n",
       "max                   98.700000  18409.000000     2.000000    99.930000   \n",
       "\n",
       "       CollegeCityID  CollegeCityTier  GraduationYear  ...  \\\n",
       "count    2998.000000      2998.000000     2998.000000  ...   \n",
       "mean     5210.210807         0.296197     2011.939960  ...   \n",
       "std      4776.609877         0.456655       36.780582  ...   \n",
       "min         2.000000         0.000000        0.000000  ...   \n",
       "25%       526.250000         0.000000     2012.000000  ...   \n",
       "50%      4027.500000         0.000000     2013.000000  ...   \n",
       "75%      8822.250000         1.000000     2014.000000  ...   \n",
       "max     18409.000000         1.000000     2017.000000  ...   \n",
       "\n",
       "       MechanicalEnggSkills  ElectricalEnggSkills  TelecomEnggSkills  \\\n",
       "count           2998.000000           2998.000000        2998.000000   \n",
       "mean              24.138759             16.267845          31.068379   \n",
       "std               99.785138             86.054739         103.552963   \n",
       "min               -1.000000             -1.000000          -1.000000   \n",
       "25%               -1.000000             -1.000000          -1.000000   \n",
       "50%               -1.000000             -1.000000          -1.000000   \n",
       "75%               -1.000000             -1.000000          -1.000000   \n",
       "max              623.000000            660.000000         548.000000   \n",
       "\n",
       "       CivilEnggSkills  conscientiousnessScore  agreeablenessScore  \\\n",
       "count      2998.000000             2998.000000         2998.000000   \n",
       "mean          1.946965               -0.038714            0.126217   \n",
       "std          32.241501                1.024974            0.955831   \n",
       "min          -1.000000               -3.893300           -5.781600   \n",
       "25%          -1.000000               -0.649100           -0.435300   \n",
       "50%          -1.000000                0.046400            0.212400   \n",
       "75%          -1.000000                0.702700            0.812800   \n",
       "max         500.000000                1.995300            1.904800   \n",
       "\n",
       "       extraversionScore  nueroticismScore  openess_to_experienceScore  \\\n",
       "count        2998.000000       2998.000000                 2998.000000   \n",
       "mean           -0.008662         -0.145965                   -0.141111   \n",
       "std             0.962695          1.012901                    1.007134   \n",
       "min            -4.600900         -2.643000                   -7.375700   \n",
       "25%            -0.604800         -0.868200                   -0.669200   \n",
       "50%             0.091400         -0.172700                   -0.094300   \n",
       "75%             0.672000          0.526200                    0.502400   \n",
       "max             2.161700          3.352500                    1.630200   \n",
       "\n",
       "       Starting_Salary  \n",
       "count     2.998000e+03  \n",
       "mean      3.051748e+05  \n",
       "std       2.123312e+05  \n",
       "min       3.500000e+04  \n",
       "25%       1.800000e+05  \n",
       "50%       3.000000e+05  \n",
       "75%       3.700000e+05  \n",
       "max       4.000000e+06  \n",
       "\n",
       "[8 rows x 27 columns]"
      ]
     },
     "execution_count": 7,
     "metadata": {},
     "output_type": "execute_result"
    }
   ],
   "source": [
    "df.describe()"
   ]
  },
  {
   "cell_type": "code",
   "execution_count": 8,
   "metadata": {
    "colab": {
     "base_uri": "https://localhost:8080/"
    },
    "id": "bpyJJMGxWBJ8",
    "outputId": "c74e3126-5356-4a43-d3bf-ccd612e54d05"
   },
   "outputs": [
    {
     "data": {
      "text/plain": [
       "(2998, 34)"
      ]
     },
     "execution_count": 8,
     "metadata": {},
     "output_type": "execute_result"
    }
   ],
   "source": [
    "df.shape"
   ]
  },
  {
   "cell_type": "markdown",
   "metadata": {
    "id": "DSfGdsKUWEvN"
   },
   "source": [
    "**As we can see from the initial analysis of the data that it has 34 columns and 2998 rows but for our model we only need the columns:-**\n",
    "\n",
    "i) Student_id\n",
    "ii) Gender\n",
    "iii) MajorSpecialization\n",
    "iv) EnglishScore\n",
    "v) LogicalReasoningScore\n",
    "vi) QuantitativeAptitudeScore"
   ]
  },
  {
   "cell_type": "markdown",
   "metadata": {
    "id": "IK5SYIrnb8Vf"
   },
   "source": [
    "**Cleaning the Data with the following:**\n",
    "\n",
    "**1. Removing unwanted rows or columns**\n",
    "\n",
    "**2. Handling missing/null values in the dataset**\n",
    "\n",
    "**3. Handling the structural changes if needed**\n",
    "\n",
    "**4. Handling outliers, if present in the dataset**"
   ]
  },
  {
   "cell_type": "markdown",
   "metadata": {
    "id": "pK0REZDGXKub"
   },
   "source": [
    "**Step 1 : Removing the unwanted columns**"
   ]
  },
  {
   "cell_type": "code",
   "execution_count": 9,
   "metadata": {
    "id": "w31Kc_8PXPgu"
   },
   "outputs": [],
   "source": [
    "df2 = df.drop(['DateOfBirth', 'HighSchool10thPercentage', 'HighSchool10thBoard', 'HighSchool12thGraduationYear', 'HighSchool12thPercentage', 'HighSchool12thBoard', 'CollegeID', 'CollegeTier', 'collegeGPA', 'CollegeCityID', 'CollegeCityTier', 'CollegeState','GraduationYear','IndustryDomain', 'ProgrammingSkills','ElectronicsAndSemiconSkills','ComputerScienceSkills','MechanicalEnggSkills','ElectricalEnggSkills','TelecomEnggSkills','CivilEnggSkills','conscientiousnessScore','agreeablenessScore','extraversionScore','nueroticismScore','openess_to_experienceScore','Starting_Salary'], axis = 1)"
   ]
  },
  {
   "cell_type": "code",
   "execution_count": 10,
   "metadata": {
    "colab": {
     "base_uri": "https://localhost:8080/",
     "height": 206
    },
    "id": "EtUkFLbOaEOy",
    "outputId": "f1c993ec-fee3-478b-df43-dcdf00daa2f6"
   },
   "outputs": [
    {
     "data": {
      "text/html": [
       "<div>\n",
       "<style scoped>\n",
       "    .dataframe tbody tr th:only-of-type {\n",
       "        vertical-align: middle;\n",
       "    }\n",
       "\n",
       "    .dataframe tbody tr th {\n",
       "        vertical-align: top;\n",
       "    }\n",
       "\n",
       "    .dataframe thead th {\n",
       "        text-align: right;\n",
       "    }\n",
       "</style>\n",
       "<table border=\"1\" class=\"dataframe\">\n",
       "  <thead>\n",
       "    <tr style=\"text-align: right;\">\n",
       "      <th></th>\n",
       "      <th>Student_ID</th>\n",
       "      <th>Gender</th>\n",
       "      <th>DegreeType</th>\n",
       "      <th>MajorSpecialization</th>\n",
       "      <th>EnglishScore</th>\n",
       "      <th>LogicalReasoningScore</th>\n",
       "      <th>QuantitativeAptitudeScore</th>\n",
       "    </tr>\n",
       "  </thead>\n",
       "  <tbody>\n",
       "    <tr>\n",
       "      <th>0</th>\n",
       "      <td>604399</td>\n",
       "      <td>f</td>\n",
       "      <td>B.Tech/B.E.</td>\n",
       "      <td>instrumentation and control engineering</td>\n",
       "      <td>650</td>\n",
       "      <td>665</td>\n",
       "      <td>810</td>\n",
       "    </tr>\n",
       "    <tr>\n",
       "      <th>1</th>\n",
       "      <td>988334</td>\n",
       "      <td>m</td>\n",
       "      <td>B.Tech/B.E.</td>\n",
       "      <td>computer science &amp; engineering</td>\n",
       "      <td>440</td>\n",
       "      <td>435</td>\n",
       "      <td>210</td>\n",
       "    </tr>\n",
       "    <tr>\n",
       "      <th>2</th>\n",
       "      <td>301647</td>\n",
       "      <td>m</td>\n",
       "      <td>B.Tech/B.E.</td>\n",
       "      <td>electronics &amp; telecommunications</td>\n",
       "      <td>485</td>\n",
       "      <td>475</td>\n",
       "      <td>505</td>\n",
       "    </tr>\n",
       "    <tr>\n",
       "      <th>3</th>\n",
       "      <td>582313</td>\n",
       "      <td>m</td>\n",
       "      <td>B.Tech/B.E.</td>\n",
       "      <td>computer science &amp; engineering</td>\n",
       "      <td>675</td>\n",
       "      <td>620</td>\n",
       "      <td>635</td>\n",
       "    </tr>\n",
       "    <tr>\n",
       "      <th>4</th>\n",
       "      <td>339001</td>\n",
       "      <td>f</td>\n",
       "      <td>B.Tech/B.E.</td>\n",
       "      <td>biotechnology</td>\n",
       "      <td>575</td>\n",
       "      <td>495</td>\n",
       "      <td>365</td>\n",
       "    </tr>\n",
       "  </tbody>\n",
       "</table>\n",
       "</div>"
      ],
      "text/plain": [
       "   Student_ID Gender   DegreeType                      MajorSpecialization  \\\n",
       "0      604399      f  B.Tech/B.E.  instrumentation and control engineering   \n",
       "1      988334      m  B.Tech/B.E.           computer science & engineering   \n",
       "2      301647      m  B.Tech/B.E.         electronics & telecommunications   \n",
       "3      582313      m  B.Tech/B.E.           computer science & engineering   \n",
       "4      339001      f  B.Tech/B.E.                            biotechnology   \n",
       "\n",
       "   EnglishScore  LogicalReasoningScore  QuantitativeAptitudeScore  \n",
       "0           650                    665                        810  \n",
       "1           440                    435                        210  \n",
       "2           485                    475                        505  \n",
       "3           675                    620                        635  \n",
       "4           575                    495                        365  "
      ]
     },
     "execution_count": 10,
     "metadata": {},
     "output_type": "execute_result"
    }
   ],
   "source": [
    "df2.head()"
   ]
  },
  {
   "cell_type": "markdown",
   "metadata": {
    "id": "5fqAnyRja28O"
   },
   "source": [
    "**Step 2 : Checking for the missing values**"
   ]
  },
  {
   "cell_type": "code",
   "execution_count": 11,
   "metadata": {
    "colab": {
     "base_uri": "https://localhost:8080/"
    },
    "id": "CunXQIDHa7oS",
    "outputId": "eb1b1598-a17a-4f3e-dc0e-ac6e2bc69092"
   },
   "outputs": [
    {
     "data": {
      "text/plain": [
       "Student_ID                   0\n",
       "Gender                       0\n",
       "DegreeType                   0\n",
       "MajorSpecialization          0\n",
       "EnglishScore                 0\n",
       "LogicalReasoningScore        0\n",
       "QuantitativeAptitudeScore    0\n",
       "dtype: int64"
      ]
     },
     "execution_count": 11,
     "metadata": {},
     "output_type": "execute_result"
    }
   ],
   "source": [
    "df2.isna().sum()"
   ]
  },
  {
   "cell_type": "markdown",
   "metadata": {
    "id": "-cM3-xS9btDB"
   },
   "source": [
    "**No missing or null values found.**"
   ]
  },
  {
   "cell_type": "markdown",
   "metadata": {
    "id": "wlqRxIAZdRMa"
   },
   "source": [
    "**Step 3 : Checking for structural changes if needed**"
   ]
  },
  {
   "cell_type": "code",
   "execution_count": 12,
   "metadata": {
    "colab": {
     "base_uri": "https://localhost:8080/"
    },
    "id": "KcPameRyda2x",
    "outputId": "857c536f-7e47-443c-88b9-a1ebe77488a6"
   },
   "outputs": [
    {
     "name": "stdout",
     "output_type": "stream",
     "text": [
      "<class 'pandas.core.frame.DataFrame'>\n",
      "RangeIndex: 2998 entries, 0 to 2997\n",
      "Data columns (total 7 columns):\n",
      " #   Column                     Non-Null Count  Dtype \n",
      "---  ------                     --------------  ----- \n",
      " 0   Student_ID                 2998 non-null   int64 \n",
      " 1   Gender                     2998 non-null   object\n",
      " 2   DegreeType                 2998 non-null   object\n",
      " 3   MajorSpecialization        2998 non-null   object\n",
      " 4   EnglishScore               2998 non-null   int64 \n",
      " 5   LogicalReasoningScore      2998 non-null   int64 \n",
      " 6   QuantitativeAptitudeScore  2998 non-null   int64 \n",
      "dtypes: int64(4), object(3)\n",
      "memory usage: 164.1+ KB\n"
     ]
    }
   ],
   "source": [
    "df2.info()"
   ]
  },
  {
   "cell_type": "markdown",
   "metadata": {
    "id": "knbKU55sdkcH"
   },
   "source": [
    "**We can see that Student_id, EnglishScore, LogicalReasoningScore, QuantitativeAptitudeScore with the int datatype are needed whereas Gender, DegreeType and MajorSpecialization are of type object as needed. Hence, no structural change is needed.**"
   ]
  },
  {
   "cell_type": "markdown",
   "metadata": {
    "id": "B5-vWgNpeRh6"
   },
   "source": [
    "**Step 4 : Handling outliers if present**"
   ]
  },
  {
   "cell_type": "code",
   "execution_count": 13,
   "metadata": {
    "colab": {
     "base_uri": "https://localhost:8080/",
     "height": 577
    },
    "id": "G09L_WbXe7pi",
    "outputId": "c9eeed38-f590-4dd1-e82e-52e7da9c8ef9"
   },
   "outputs": [
    {
     "data": {
      "text/plain": [
       "{'whiskers': [<matplotlib.lines.Line2D at 0x24cf64a0a00>,\n",
       "  <matplotlib.lines.Line2D at 0x24cf64a2230>],\n",
       " 'caps': [<matplotlib.lines.Line2D at 0x24cf64a2500>,\n",
       "  <matplotlib.lines.Line2D at 0x24cf64a27d0>],\n",
       " 'boxes': [<matplotlib.lines.Line2D at 0x24cf64a1db0>],\n",
       " 'medians': [<matplotlib.lines.Line2D at 0x24cf64a2aa0>],\n",
       " 'fliers': [<matplotlib.lines.Line2D at 0x24cf64a2d70>],\n",
       " 'means': []}"
      ]
     },
     "execution_count": 13,
     "metadata": {},
     "output_type": "execute_result"
    },
    {
     "data": {
      "image/png": "[encoded data removed]",
      "text/plain": [
       "<Figure size 640x480 with 1 Axes>"
      ]
     },
     "metadata": {},
     "output_type": "display_data"
    }
   ],
   "source": [
    "import matplotlib.pyplot as plt\n",
    "plt.boxplot(df2.EnglishScore)"
   ]
  },
  {
   "cell_type": "code",
   "execution_count": 14,
   "metadata": {
    "colab": {
     "base_uri": "https://localhost:8080/",
     "height": 576
    },
    "id": "051VjjVKfe9a",
    "outputId": "6d8dc06e-449e-407f-98f1-181f229c160b"
   },
   "outputs": [
    {
     "data": {
      "text/plain": [
       "{'whiskers': [<matplotlib.lines.Line2D at 0x24cf86e5fc0>,\n",
       "  <matplotlib.lines.Line2D at 0x24cf86e62f0>],\n",
       " 'caps': [<matplotlib.lines.Line2D at 0x24cf86e65f0>,\n",
       "  <matplotlib.lines.Line2D at 0x24cf86e68c0>],\n",
       " 'boxes': [<matplotlib.lines.Line2D at 0x24cf86e5d20>],\n",
       " 'medians': [<matplotlib.lines.Line2D at 0x24cf86e6b90>],\n",
       " 'fliers': [<matplotlib.lines.Line2D at 0x24cf86e6e60>],\n",
       " 'means': []}"
      ]
     },
     "execution_count": 14,
     "metadata": {},
     "output_type": "execute_result"
    },
    {
     "data": {
      "image/png": "[encoded data removed]",
      "text/plain": [
       "<Figure size 640x480 with 1 Axes>"
      ]
     },
     "metadata": {},
     "output_type": "display_data"
    }
   ],
   "source": [
    "plt.boxplot(df2.LogicalReasoningScore)"
   ]
  },
  {
   "cell_type": "code",
   "execution_count": 15,
   "metadata": {
    "colab": {
     "base_uri": "https://localhost:8080/",
     "height": 576
    },
    "id": "_ca1gl2hfunS",
    "outputId": "1af576d6-6946-4f99-ee09-b8a42748ad39"
   },
   "outputs": [
    {
     "data": {
      "text/plain": [
       "{'whiskers': [<matplotlib.lines.Line2D at 0x24cf876c580>,\n",
       "  <matplotlib.lines.Line2D at 0x24cf876c850>],\n",
       " 'caps': [<matplotlib.lines.Line2D at 0x24cf876cb20>,\n",
       "  <matplotlib.lines.Line2D at 0x24cf876cdf0>],\n",
       " 'boxes': [<matplotlib.lines.Line2D at 0x24cf876c250>],\n",
       " 'medians': [<matplotlib.lines.Line2D at 0x24cf876d0c0>],\n",
       " 'fliers': [<matplotlib.lines.Line2D at 0x24cf876d390>],\n",
       " 'means': []}"
      ]
     },
     "execution_count": 15,
     "metadata": {},
     "output_type": "execute_result"
    },
    {
     "data": {
      "image/png": "[encoded data removed]",
      "text/plain": [
       "<Figure size 640x480 with 1 Axes>"
      ]
     },
     "metadata": {},
     "output_type": "display_data"
    }
   ],
   "source": [
    "plt.boxplot(df2.QuantitativeAptitudeScore)"
   ]
  },
  {
   "cell_type": "code",
   "execution_count": 16,
   "metadata": {
    "colab": {
     "base_uri": "https://localhost:8080/",
     "height": 300
    },
    "id": "auVGneDfgNY_",
    "outputId": "e3a71217-fee8-432b-fe42-40d19c88a847"
   },
   "outputs": [
    {
     "data": {
      "text/html": [
       "<div>\n",
       "<style scoped>\n",
       "    .dataframe tbody tr th:only-of-type {\n",
       "        vertical-align: middle;\n",
       "    }\n",
       "\n",
       "    .dataframe tbody tr th {\n",
       "        vertical-align: top;\n",
       "    }\n",
       "\n",
       "    .dataframe thead th {\n",
       "        text-align: right;\n",
       "    }\n",
       "</style>\n",
       "<table border=\"1\" class=\"dataframe\">\n",
       "  <thead>\n",
       "    <tr style=\"text-align: right;\">\n",
       "      <th></th>\n",
       "      <th>Student_ID</th>\n",
       "      <th>EnglishScore</th>\n",
       "      <th>LogicalReasoningScore</th>\n",
       "      <th>QuantitativeAptitudeScore</th>\n",
       "    </tr>\n",
       "  </thead>\n",
       "  <tbody>\n",
       "    <tr>\n",
       "      <th>count</th>\n",
       "      <td>2.998000e+03</td>\n",
       "      <td>2998.000000</td>\n",
       "      <td>2998.000000</td>\n",
       "      <td>2998.000000</td>\n",
       "    </tr>\n",
       "    <tr>\n",
       "      <th>mean</th>\n",
       "      <td>6.648926e+05</td>\n",
       "      <td>501.066378</td>\n",
       "      <td>500.431621</td>\n",
       "      <td>514.137759</td>\n",
       "    </tr>\n",
       "    <tr>\n",
       "      <th>std</th>\n",
       "      <td>3.648951e+05</td>\n",
       "      <td>105.304512</td>\n",
       "      <td>87.299850</td>\n",
       "      <td>122.194955</td>\n",
       "    </tr>\n",
       "    <tr>\n",
       "      <th>min</th>\n",
       "      <td>1.124400e+04</td>\n",
       "      <td>180.000000</td>\n",
       "      <td>195.000000</td>\n",
       "      <td>120.000000</td>\n",
       "    </tr>\n",
       "    <tr>\n",
       "      <th>25%</th>\n",
       "      <td>3.334648e+05</td>\n",
       "      <td>425.000000</td>\n",
       "      <td>441.250000</td>\n",
       "      <td>430.000000</td>\n",
       "    </tr>\n",
       "    <tr>\n",
       "      <th>50%</th>\n",
       "      <td>6.396945e+05</td>\n",
       "      <td>500.000000</td>\n",
       "      <td>505.000000</td>\n",
       "      <td>515.000000</td>\n",
       "    </tr>\n",
       "    <tr>\n",
       "      <th>75%</th>\n",
       "      <td>9.951770e+05</td>\n",
       "      <td>570.000000</td>\n",
       "      <td>565.000000</td>\n",
       "      <td>595.000000</td>\n",
       "    </tr>\n",
       "    <tr>\n",
       "      <th>max</th>\n",
       "      <td>1.297877e+06</td>\n",
       "      <td>875.000000</td>\n",
       "      <td>795.000000</td>\n",
       "      <td>900.000000</td>\n",
       "    </tr>\n",
       "  </tbody>\n",
       "</table>\n",
       "</div>"
      ],
      "text/plain": [
       "         Student_ID  EnglishScore  LogicalReasoningScore  \\\n",
       "count  2.998000e+03   2998.000000            2998.000000   \n",
       "mean   6.648926e+05    501.066378             500.431621   \n",
       "std    3.648951e+05    105.304512              87.299850   \n",
       "min    1.124400e+04    180.000000             195.000000   \n",
       "25%    3.334648e+05    425.000000             441.250000   \n",
       "50%    6.396945e+05    500.000000             505.000000   \n",
       "75%    9.951770e+05    570.000000             565.000000   \n",
       "max    1.297877e+06    875.000000             795.000000   \n",
       "\n",
       "       QuantitativeAptitudeScore  \n",
       "count                2998.000000  \n",
       "mean                  514.137759  \n",
       "std                   122.194955  \n",
       "min                   120.000000  \n",
       "25%                   430.000000  \n",
       "50%                   515.000000  \n",
       "75%                   595.000000  \n",
       "max                   900.000000  "
      ]
     },
     "execution_count": 16,
     "metadata": {},
     "output_type": "execute_result"
    }
   ],
   "source": [
    "df2.describe()"
   ]
  },
  {
   "cell_type": "markdown",
   "metadata": {
    "id": "3TFgPIXih0tH"
   },
   "source": [
    "**From the above observations although there are some outliers present in the dataset, but they are not so significant. Hence, we do not need to remove them.**"
   ]
  },
  {
   "cell_type": "code",
   "execution_count": 17,
   "metadata": {
    "colab": {
     "base_uri": "https://localhost:8080/"
    },
    "id": "HvxInW5OB4Sg",
    "outputId": "ebd432a2-d2e7-4460-d6f7-34b5b16555ca"
   },
   "outputs": [
    {
     "data": {
      "text/plain": [
       "array([650, 440, 485, 675, 575, 535, 510, 370, 500, 395, 495, 640, 720,\n",
       "       385, 475, 520, 360, 545, 240, 355, 345, 180, 505, 630, 615, 525,\n",
       "       455, 730, 590, 430, 464, 465, 415, 275, 325, 625, 490, 544, 300,\n",
       "       435, 405, 350, 565, 555, 425, 725, 380, 645, 700, 305, 445, 365,\n",
       "       685, 450, 605, 375, 580, 454, 635, 560, 585, 825, 570, 534, 444,\n",
       "       755, 655, 735, 404, 335, 420, 765, 315, 310, 595, 515, 770, 295,\n",
       "       665, 205, 290, 695, 265, 660, 250, 215, 710, 870, 285, 554, 530,\n",
       "       830, 775, 780, 795, 334, 684, 745, 705, 800, 394, 280, 805, 790,\n",
       "       324, 524, 875, 715, 255], dtype=int64)"
      ]
     },
     "execution_count": 17,
     "metadata": {},
     "output_type": "execute_result"
    }
   ],
   "source": [
    "df2['EnglishScore'].unique()"
   ]
  },
  {
   "cell_type": "code",
   "execution_count": 18,
   "metadata": {
    "colab": {
     "base_uri": "https://localhost:8080/"
    },
    "id": "5a1PNr0uGPbN",
    "outputId": "3a5d9c05-15f0-4ee1-fb4d-3cd8f051fcfb"
   },
   "outputs": [
    {
     "data": {
      "text/plain": [
       "array([665, 435, 475, 620, 495, 595, 470, 555, 410, 630, 565, 445, 530,\n",
       "       515, 245, 570, 505, 340, 415, 365, 440, 590, 605, 525, 485, 460,\n",
       "       560, 535, 375, 585, 615, 520, 355, 510, 465, 385, 425, 500, 450,\n",
       "       395, 645, 325, 390, 300, 545, 610, 404, 575, 315, 655, 350, 455,\n",
       "       540, 305, 625, 640, 400, 670, 580, 680, 675, 360, 635, 480, 464,\n",
       "       370, 335, 405, 215, 285, 554, 420, 650, 660, 454, 394, 330, 345,\n",
       "       695, 685, 195, 544, 310, 255, 735, 490, 334, 280, 690, 700, 324,\n",
       "       295, 270, 795, 265, 274, 235, 205, 684, 290, 380, 240, 705, 715],\n",
       "      dtype=int64)"
      ]
     },
     "execution_count": 18,
     "metadata": {},
     "output_type": "execute_result"
    }
   ],
   "source": [
    "df2['LogicalReasoningScore'].unique()"
   ]
  },
  {
   "cell_type": "code",
   "execution_count": 19,
   "metadata": {
    "colab": {
     "base_uri": "https://localhost:8080/"
    },
    "id": "9fn30AdAGFLc",
    "outputId": "877eb8f2-a6d2-4058-c7d1-6ada31f3a017"
   },
   "outputs": [
    {
     "data": {
      "text/plain": [
       "array([810, 210, 505, 635, 365, 620, 405, 280, 440, 560, 485, 645, 605,\n",
       "       705, 750, 465, 595, 430, 554, 495, 445, 385, 320, 310, 695, 570,\n",
       "       585, 575, 720, 520, 690, 530, 415, 565, 475, 370, 425, 725, 504,\n",
       "       325, 330, 455, 220, 545, 470, 375, 615, 735, 355, 454, 680, 500,\n",
       "       340, 510, 285, 464, 390, 665, 655, 265, 515, 395, 625, 590, 315,\n",
       "       525, 334, 535, 555, 650, 685, 544, 740, 345, 235, 524, 630, 295,\n",
       "       270, 715, 460, 380, 794, 255, 435, 765, 335, 195, 190, 795, 400,\n",
       "       185, 675, 825, 450, 394, 260, 800, 324, 135, 404, 780, 870, 250,\n",
       "       180, 494, 305, 275, 150, 860, 165, 755, 684, 900, 760, 155, 410,\n",
       "       840, 200, 214, 225, 745, 855, 245, 215, 820, 120, 580, 175, 674,\n",
       "       885, 444, 145], dtype=int64)"
      ]
     },
     "execution_count": 19,
     "metadata": {},
     "output_type": "execute_result"
    }
   ],
   "source": [
    "df2['QuantitativeAptitudeScore'].unique()"
   ]
  },
  {
   "cell_type": "markdown",
   "metadata": {
    "id": "n3JxUry0K_GC"
   },
   "source": [
    "**Creating a percentage column for each subject**"
   ]
  },
  {
   "cell_type": "code",
   "execution_count": 20,
   "metadata": {
    "id": "pEGUFnLwK86r"
   },
   "outputs": [],
   "source": [
    "df2['EnglishScore'] = df2['EnglishScore'] * 0.1"
   ]
  },
  {
   "cell_type": "code",
   "execution_count": 21,
   "metadata": {
    "id": "gxgkM9bwMHsL"
   },
   "outputs": [],
   "source": [
    "df2['LogicalReasoningScore'] = df2['LogicalReasoningScore'] * 0.1"
   ]
  },
  {
   "cell_type": "code",
   "execution_count": 22,
   "metadata": {
    "id": "c0PrF_fQMV4F"
   },
   "outputs": [],
   "source": [
    "df2['QuantitativeAptitudeScore'] = df2['QuantitativeAptitudeScore'] * 0.1"
   ]
  },
  {
   "cell_type": "code",
   "execution_count": 23,
   "metadata": {
    "colab": {
     "base_uri": "https://localhost:8080/",
     "height": 423
    },
    "id": "bVIb4yAgZIhB",
    "outputId": "63c270df-fff4-43a5-aa1b-3fa5622cb0a9"
   },
   "outputs": [
    {
     "data": {
      "text/html": [
       "<div>\n",
       "<style scoped>\n",
       "    .dataframe tbody tr th:only-of-type {\n",
       "        vertical-align: middle;\n",
       "    }\n",
       "\n",
       "    .dataframe tbody tr th {\n",
       "        vertical-align: top;\n",
       "    }\n",
       "\n",
       "    .dataframe thead th {\n",
       "        text-align: right;\n",
       "    }\n",
       "</style>\n",
       "<table border=\"1\" class=\"dataframe\">\n",
       "  <thead>\n",
       "    <tr style=\"text-align: right;\">\n",
       "      <th></th>\n",
       "      <th>Student_ID</th>\n",
       "      <th>Gender</th>\n",
       "      <th>DegreeType</th>\n",
       "      <th>MajorSpecialization</th>\n",
       "      <th>EnglishScore</th>\n",
       "      <th>LogicalReasoningScore</th>\n",
       "      <th>QuantitativeAptitudeScore</th>\n",
       "    </tr>\n",
       "  </thead>\n",
       "  <tbody>\n",
       "    <tr>\n",
       "      <th>0</th>\n",
       "      <td>604399</td>\n",
       "      <td>f</td>\n",
       "      <td>B.Tech/B.E.</td>\n",
       "      <td>instrumentation and control engineering</td>\n",
       "      <td>65.0</td>\n",
       "      <td>66.5</td>\n",
       "      <td>81.0</td>\n",
       "    </tr>\n",
       "    <tr>\n",
       "      <th>1</th>\n",
       "      <td>988334</td>\n",
       "      <td>m</td>\n",
       "      <td>B.Tech/B.E.</td>\n",
       "      <td>computer science &amp; engineering</td>\n",
       "      <td>44.0</td>\n",
       "      <td>43.5</td>\n",
       "      <td>21.0</td>\n",
       "    </tr>\n",
       "    <tr>\n",
       "      <th>2</th>\n",
       "      <td>301647</td>\n",
       "      <td>m</td>\n",
       "      <td>B.Tech/B.E.</td>\n",
       "      <td>electronics &amp; telecommunications</td>\n",
       "      <td>48.5</td>\n",
       "      <td>47.5</td>\n",
       "      <td>50.5</td>\n",
       "    </tr>\n",
       "    <tr>\n",
       "      <th>3</th>\n",
       "      <td>582313</td>\n",
       "      <td>m</td>\n",
       "      <td>B.Tech/B.E.</td>\n",
       "      <td>computer science &amp; engineering</td>\n",
       "      <td>67.5</td>\n",
       "      <td>62.0</td>\n",
       "      <td>63.5</td>\n",
       "    </tr>\n",
       "    <tr>\n",
       "      <th>4</th>\n",
       "      <td>339001</td>\n",
       "      <td>f</td>\n",
       "      <td>B.Tech/B.E.</td>\n",
       "      <td>biotechnology</td>\n",
       "      <td>57.5</td>\n",
       "      <td>49.5</td>\n",
       "      <td>36.5</td>\n",
       "    </tr>\n",
       "    <tr>\n",
       "      <th>...</th>\n",
       "      <td>...</td>\n",
       "      <td>...</td>\n",
       "      <td>...</td>\n",
       "      <td>...</td>\n",
       "      <td>...</td>\n",
       "      <td>...</td>\n",
       "      <td>...</td>\n",
       "    </tr>\n",
       "    <tr>\n",
       "      <th>2993</th>\n",
       "      <td>103174</td>\n",
       "      <td>f</td>\n",
       "      <td>B.Tech/B.E.</td>\n",
       "      <td>electronics and communication engineering</td>\n",
       "      <td>50.5</td>\n",
       "      <td>48.5</td>\n",
       "      <td>44.5</td>\n",
       "    </tr>\n",
       "    <tr>\n",
       "      <th>2994</th>\n",
       "      <td>352811</td>\n",
       "      <td>f</td>\n",
       "      <td>B.Tech/B.E.</td>\n",
       "      <td>information technology</td>\n",
       "      <td>34.5</td>\n",
       "      <td>58.5</td>\n",
       "      <td>39.5</td>\n",
       "    </tr>\n",
       "    <tr>\n",
       "      <th>2995</th>\n",
       "      <td>287070</td>\n",
       "      <td>m</td>\n",
       "      <td>B.Tech/B.E.</td>\n",
       "      <td>information technology</td>\n",
       "      <td>38.5</td>\n",
       "      <td>42.5</td>\n",
       "      <td>48.5</td>\n",
       "    </tr>\n",
       "    <tr>\n",
       "      <th>2996</th>\n",
       "      <td>317336</td>\n",
       "      <td>m</td>\n",
       "      <td>B.Tech/B.E.</td>\n",
       "      <td>computer engineering</td>\n",
       "      <td>46.5</td>\n",
       "      <td>64.5</td>\n",
       "      <td>50.5</td>\n",
       "    </tr>\n",
       "    <tr>\n",
       "      <th>2997</th>\n",
       "      <td>993701</td>\n",
       "      <td>m</td>\n",
       "      <td>B.Tech/B.E.</td>\n",
       "      <td>information technology</td>\n",
       "      <td>37.0</td>\n",
       "      <td>39.0</td>\n",
       "      <td>28.5</td>\n",
       "    </tr>\n",
       "  </tbody>\n",
       "</table>\n",
       "<p>2998 rows × 7 columns</p>\n",
       "</div>"
      ],
      "text/plain": [
       "      Student_ID Gender   DegreeType  \\\n",
       "0         604399      f  B.Tech/B.E.   \n",
       "1         988334      m  B.Tech/B.E.   \n",
       "2         301647      m  B.Tech/B.E.   \n",
       "3         582313      m  B.Tech/B.E.   \n",
       "4         339001      f  B.Tech/B.E.   \n",
       "...          ...    ...          ...   \n",
       "2993      103174      f  B.Tech/B.E.   \n",
       "2994      352811      f  B.Tech/B.E.   \n",
       "2995      287070      m  B.Tech/B.E.   \n",
       "2996      317336      m  B.Tech/B.E.   \n",
       "2997      993701      m  B.Tech/B.E.   \n",
       "\n",
       "                            MajorSpecialization  EnglishScore  \\\n",
       "0       instrumentation and control engineering          65.0   \n",
       "1                computer science & engineering          44.0   \n",
       "2              electronics & telecommunications          48.5   \n",
       "3                computer science & engineering          67.5   \n",
       "4                                 biotechnology          57.5   \n",
       "...                                         ...           ...   \n",
       "2993  electronics and communication engineering          50.5   \n",
       "2994                     information technology          34.5   \n",
       "2995                     information technology          38.5   \n",
       "2996                       computer engineering          46.5   \n",
       "2997                     information technology          37.0   \n",
       "\n",
       "      LogicalReasoningScore  QuantitativeAptitudeScore  \n",
       "0                      66.5                       81.0  \n",
       "1                      43.5                       21.0  \n",
       "2                      47.5                       50.5  \n",
       "3                      62.0                       63.5  \n",
       "4                      49.5                       36.5  \n",
       "...                     ...                        ...  \n",
       "2993                   48.5                       44.5  \n",
       "2994                   58.5                       39.5  \n",
       "2995                   42.5                       48.5  \n",
       "2996                   64.5                       50.5  \n",
       "2997                   39.0                       28.5  \n",
       "\n",
       "[2998 rows x 7 columns]"
      ]
     },
     "execution_count": 23,
     "metadata": {},
     "output_type": "execute_result"
    }
   ],
   "source": [
    "df2"
   ]
  },
  {
   "cell_type": "markdown",
   "metadata": {
    "id": "MD84XK2zidGs"
   },
   "source": [
    "**Model Building and Training**"
   ]
  },
  {
   "cell_type": "code",
   "execution_count": 24,
   "metadata": {
    "id": "oCi7D_pu_51N"
   },
   "outputs": [],
   "source": [
    "from sklearn.cluster import KMeans\n",
    "from sklearn.preprocessing import StandardScaler\n",
    "import matplotlib.pyplot as plt"
   ]
  },
  {
   "cell_type": "code",
   "execution_count": 25,
   "metadata": {
    "id": "PJuP9j55ISAv"
   },
   "outputs": [],
   "source": [
    "n_clusters = 3"
   ]
  },
  {
   "cell_type": "code",
   "execution_count": 26,
   "metadata": {
    "colab": {
     "base_uri": "https://localhost:8080/"
    },
    "id": "hS-u3KpHIU3M",
    "outputId": "696cfec5-2f5e-4dcf-e368-696ebe4e5f1b"
   },
   "outputs": [
    {
     "name": "stderr",
     "output_type": "stream",
     "text": [
      "C:\\Python310\\lib\\site-packages\\sklearn\\cluster\\_kmeans.py:870: FutureWarning: The default value of `n_init` will change from 10 to 'auto' in 1.4. Set the value of `n_init` explicitly to suppress the warning\n",
      "  warnings.warn(\n"
     ]
    }
   ],
   "source": [
    "#K-Means clustering for English Score\n",
    "kmeans_english = KMeans(n_clusters=3, random_state=0)\n",
    "df2['EnglishCluster'] = kmeans_english.fit_predict(df2[['EnglishScore']])"
   ]
  },
  {
   "cell_type": "code",
   "execution_count": 27,
   "metadata": {
    "colab": {
     "base_uri": "https://localhost:8080/",
     "height": 472
    },
    "id": "7jl04B6fIWe5",
    "outputId": "c11ea989-ec0d-4f65-f7f2-48b75ea169a9"
   },
   "outputs": [
    {
     "data": {
      "image/png": "[encoded data removed]",
      "text/plain": [
       "<Figure size 640x480 with 1 Axes>"
      ]
     },
     "metadata": {},
     "output_type": "display_data"
    }
   ],
   "source": [
    "# Plotting graph for English Score clusters\n",
    "plt.scatter(df2['EnglishScore'], [0] * len(df2), c=df2['EnglishCluster'], cmap='viridis', marker='.')\n",
    "plt.xlabel('English Score')\n",
    "plt.title('English Score Clusters')\n",
    "plt.yticks([])\n",
    "plt.show()"
   ]
  },
  {
   "cell_type": "code",
   "execution_count": 28,
   "metadata": {
    "colab": {
     "base_uri": "https://localhost:8080/"
    },
    "id": "8PkW7K3WIYx-",
    "outputId": "2665872d-bab9-46bb-91b3-a925c32059c1"
   },
   "outputs": [
    {
     "name": "stderr",
     "output_type": "stream",
     "text": [
      "C:\\Python310\\lib\\site-packages\\sklearn\\cluster\\_kmeans.py:870: FutureWarning: The default value of `n_init` will change from 10 to 'auto' in 1.4. Set the value of `n_init` explicitly to suppress the warning\n",
      "  warnings.warn(\n"
     ]
    }
   ],
   "source": [
    "#K-Means clustering for Logical Reasoning Score\n",
    "kmeans_logical = KMeans(n_clusters=3, random_state=0)\n",
    "df2['LogicalReasoningCluster'] = kmeans_logical.fit_predict(df2[['LogicalReasoningScore']])"
   ]
  },
  {
   "cell_type": "code",
   "execution_count": 29,
   "metadata": {
    "colab": {
     "base_uri": "https://localhost:8080/",
     "height": 472
    },
    "id": "OhV4L78PIbUC",
    "outputId": "d62f4bfa-237d-4f7f-a17c-a961492d60f7"
   },
   "outputs": [
    {
     "data": {
      "image/png": "[encoded data removed]",
      "text/plain": [
       "<Figure size 640x480 with 1 Axes>"
      ]
     },
     "metadata": {},
     "output_type": "display_data"
    }
   ],
   "source": [
    "#Plotting graph for Logical Reasoning Score clusters\n",
    "plt.scatter(df2['LogicalReasoningScore'], [0] * len(df2), c=df2['LogicalReasoningCluster'], cmap='viridis', marker='.')\n",
    "plt.xlabel('Logical Reasoning Score')\n",
    "plt.title('Logical Reasoning Score Clusters')\n",
    "plt.yticks([])\n",
    "plt.show()"
   ]
  },
  {
   "cell_type": "code",
   "execution_count": 30,
   "metadata": {
    "colab": {
     "base_uri": "https://localhost:8080/"
    },
    "id": "zogiEvpRIdUj",
    "outputId": "81638309-a0e5-4807-8a95-614bf9e212f1"
   },
   "outputs": [
    {
     "name": "stderr",
     "output_type": "stream",
     "text": [
      "C:\\Python310\\lib\\site-packages\\sklearn\\cluster\\_kmeans.py:870: FutureWarning: The default value of `n_init` will change from 10 to 'auto' in 1.4. Set the value of `n_init` explicitly to suppress the warning\n",
      "  warnings.warn(\n"
     ]
    }
   ],
   "source": [
    "#K-Means clustering for Quantitative Aptitude Score\n",
    "kmeans_quantitative = KMeans(n_clusters=3, random_state=0)\n",
    "df2['QuantitativeAptitudeCluster'] = kmeans_quantitative.fit_predict(df2[['QuantitativeAptitudeScore']])"
   ]
  },
  {
   "cell_type": "code",
   "execution_count": 31,
   "metadata": {
    "colab": {
     "base_uri": "https://localhost:8080/",
     "height": 472
    },
    "id": "N7OIhPopJbVV",
    "outputId": "8e50789e-3e51-466f-fb70-384613c7463f"
   },
   "outputs": [
    {
     "data": {
      "image/png": "[encoded data removed]",
      "text/plain": [
       "<Figure size 640x480 with 1 Axes>"
      ]
     },
     "metadata": {},
     "output_type": "display_data"
    }
   ],
   "source": [
    "#Plotting graph for Quantitative Aptitude Score clusters\n",
    "plt.scatter(df2['QuantitativeAptitudeScore'], [0] * len(df2), c=df2['QuantitativeAptitudeCluster'], cmap='viridis', marker='.')\n",
    "plt.xlabel('Quantitative Aptitude Score')\n",
    "plt.title('Quantitative Aptitude Score Clusters')\n",
    "plt.yticks([])\n",
    "plt.show()"
   ]
  },
  {
   "cell_type": "code",
   "execution_count": 32,
   "metadata": {
    "colab": {
     "base_uri": "https://localhost:8080/",
     "height": 458
    },
    "id": "gvRVaSdhMRKP",
    "outputId": "6b3e603b-2919-4ab4-c97a-fa270f73b78e"
   },
   "outputs": [
    {
     "data": {
      "text/html": [
       "<div>\n",
       "<style scoped>\n",
       "    .dataframe tbody tr th:only-of-type {\n",
       "        vertical-align: middle;\n",
       "    }\n",
       "\n",
       "    .dataframe tbody tr th {\n",
       "        vertical-align: top;\n",
       "    }\n",
       "\n",
       "    .dataframe thead th {\n",
       "        text-align: right;\n",
       "    }\n",
       "</style>\n",
       "<table border=\"1\" class=\"dataframe\">\n",
       "  <thead>\n",
       "    <tr style=\"text-align: right;\">\n",
       "      <th></th>\n",
       "      <th>Student_ID</th>\n",
       "      <th>Gender</th>\n",
       "      <th>DegreeType</th>\n",
       "      <th>MajorSpecialization</th>\n",
       "      <th>EnglishScore</th>\n",
       "      <th>LogicalReasoningScore</th>\n",
       "      <th>QuantitativeAptitudeScore</th>\n",
       "      <th>EnglishCluster</th>\n",
       "      <th>LogicalReasoningCluster</th>\n",
       "      <th>QuantitativeAptitudeCluster</th>\n",
       "    </tr>\n",
       "  </thead>\n",
       "  <tbody>\n",
       "    <tr>\n",
       "      <th>0</th>\n",
       "      <td>604399</td>\n",
       "      <td>f</td>\n",
       "      <td>B.Tech/B.E.</td>\n",
       "      <td>instrumentation and control engineering</td>\n",
       "      <td>65.0</td>\n",
       "      <td>66.5</td>\n",
       "      <td>81.0</td>\n",
       "      <td>1</td>\n",
       "      <td>1</td>\n",
       "      <td>1</td>\n",
       "    </tr>\n",
       "    <tr>\n",
       "      <th>1</th>\n",
       "      <td>988334</td>\n",
       "      <td>m</td>\n",
       "      <td>B.Tech/B.E.</td>\n",
       "      <td>computer science &amp; engineering</td>\n",
       "      <td>44.0</td>\n",
       "      <td>43.5</td>\n",
       "      <td>21.0</td>\n",
       "      <td>0</td>\n",
       "      <td>0</td>\n",
       "      <td>2</td>\n",
       "    </tr>\n",
       "    <tr>\n",
       "      <th>2</th>\n",
       "      <td>301647</td>\n",
       "      <td>m</td>\n",
       "      <td>B.Tech/B.E.</td>\n",
       "      <td>electronics &amp; telecommunications</td>\n",
       "      <td>48.5</td>\n",
       "      <td>47.5</td>\n",
       "      <td>50.5</td>\n",
       "      <td>2</td>\n",
       "      <td>2</td>\n",
       "      <td>0</td>\n",
       "    </tr>\n",
       "    <tr>\n",
       "      <th>3</th>\n",
       "      <td>582313</td>\n",
       "      <td>m</td>\n",
       "      <td>B.Tech/B.E.</td>\n",
       "      <td>computer science &amp; engineering</td>\n",
       "      <td>67.5</td>\n",
       "      <td>62.0</td>\n",
       "      <td>63.5</td>\n",
       "      <td>1</td>\n",
       "      <td>1</td>\n",
       "      <td>1</td>\n",
       "    </tr>\n",
       "    <tr>\n",
       "      <th>4</th>\n",
       "      <td>339001</td>\n",
       "      <td>f</td>\n",
       "      <td>B.Tech/B.E.</td>\n",
       "      <td>biotechnology</td>\n",
       "      <td>57.5</td>\n",
       "      <td>49.5</td>\n",
       "      <td>36.5</td>\n",
       "      <td>1</td>\n",
       "      <td>2</td>\n",
       "      <td>2</td>\n",
       "    </tr>\n",
       "    <tr>\n",
       "      <th>...</th>\n",
       "      <td>...</td>\n",
       "      <td>...</td>\n",
       "      <td>...</td>\n",
       "      <td>...</td>\n",
       "      <td>...</td>\n",
       "      <td>...</td>\n",
       "      <td>...</td>\n",
       "      <td>...</td>\n",
       "      <td>...</td>\n",
       "      <td>...</td>\n",
       "    </tr>\n",
       "    <tr>\n",
       "      <th>2993</th>\n",
       "      <td>103174</td>\n",
       "      <td>f</td>\n",
       "      <td>B.Tech/B.E.</td>\n",
       "      <td>electronics and communication engineering</td>\n",
       "      <td>50.5</td>\n",
       "      <td>48.5</td>\n",
       "      <td>44.5</td>\n",
       "      <td>2</td>\n",
       "      <td>2</td>\n",
       "      <td>0</td>\n",
       "    </tr>\n",
       "    <tr>\n",
       "      <th>2994</th>\n",
       "      <td>352811</td>\n",
       "      <td>f</td>\n",
       "      <td>B.Tech/B.E.</td>\n",
       "      <td>information technology</td>\n",
       "      <td>34.5</td>\n",
       "      <td>58.5</td>\n",
       "      <td>39.5</td>\n",
       "      <td>0</td>\n",
       "      <td>1</td>\n",
       "      <td>2</td>\n",
       "    </tr>\n",
       "    <tr>\n",
       "      <th>2995</th>\n",
       "      <td>287070</td>\n",
       "      <td>m</td>\n",
       "      <td>B.Tech/B.E.</td>\n",
       "      <td>information technology</td>\n",
       "      <td>38.5</td>\n",
       "      <td>42.5</td>\n",
       "      <td>48.5</td>\n",
       "      <td>0</td>\n",
       "      <td>0</td>\n",
       "      <td>0</td>\n",
       "    </tr>\n",
       "    <tr>\n",
       "      <th>2996</th>\n",
       "      <td>317336</td>\n",
       "      <td>m</td>\n",
       "      <td>B.Tech/B.E.</td>\n",
       "      <td>computer engineering</td>\n",
       "      <td>46.5</td>\n",
       "      <td>64.5</td>\n",
       "      <td>50.5</td>\n",
       "      <td>2</td>\n",
       "      <td>1</td>\n",
       "      <td>0</td>\n",
       "    </tr>\n",
       "    <tr>\n",
       "      <th>2997</th>\n",
       "      <td>993701</td>\n",
       "      <td>m</td>\n",
       "      <td>B.Tech/B.E.</td>\n",
       "      <td>information technology</td>\n",
       "      <td>37.0</td>\n",
       "      <td>39.0</td>\n",
       "      <td>28.5</td>\n",
       "      <td>0</td>\n",
       "      <td>0</td>\n",
       "      <td>2</td>\n",
       "    </tr>\n",
       "  </tbody>\n",
       "</table>\n",
       "<p>2998 rows × 10 columns</p>\n",
       "</div>"
      ],
      "text/plain": [
       "      Student_ID Gender   DegreeType  \\\n",
       "0         604399      f  B.Tech/B.E.   \n",
       "1         988334      m  B.Tech/B.E.   \n",
       "2         301647      m  B.Tech/B.E.   \n",
       "3         582313      m  B.Tech/B.E.   \n",
       "4         339001      f  B.Tech/B.E.   \n",
       "...          ...    ...          ...   \n",
       "2993      103174      f  B.Tech/B.E.   \n",
       "2994      352811      f  B.Tech/B.E.   \n",
       "2995      287070      m  B.Tech/B.E.   \n",
       "2996      317336      m  B.Tech/B.E.   \n",
       "2997      993701      m  B.Tech/B.E.   \n",
       "\n",
       "                            MajorSpecialization  EnglishScore  \\\n",
       "0       instrumentation and control engineering          65.0   \n",
       "1                computer science & engineering          44.0   \n",
       "2              electronics & telecommunications          48.5   \n",
       "3                computer science & engineering          67.5   \n",
       "4                                 biotechnology          57.5   \n",
       "...                                         ...           ...   \n",
       "2993  electronics and communication engineering          50.5   \n",
       "2994                     information technology          34.5   \n",
       "2995                     information technology          38.5   \n",
       "2996                       computer engineering          46.5   \n",
       "2997                     information technology          37.0   \n",
       "\n",
       "      LogicalReasoningScore  QuantitativeAptitudeScore  EnglishCluster  \\\n",
       "0                      66.5                       81.0               1   \n",
       "1                      43.5                       21.0               0   \n",
       "2                      47.5                       50.5               2   \n",
       "3                      62.0                       63.5               1   \n",
       "4                      49.5                       36.5               1   \n",
       "...                     ...                        ...             ...   \n",
       "2993                   48.5                       44.5               2   \n",
       "2994                   58.5                       39.5               0   \n",
       "2995                   42.5                       48.5               0   \n",
       "2996                   64.5                       50.5               2   \n",
       "2997                   39.0                       28.5               0   \n",
       "\n",
       "      LogicalReasoningCluster  QuantitativeAptitudeCluster  \n",
       "0                           1                            1  \n",
       "1                           0                            2  \n",
       "2                           2                            0  \n",
       "3                           1                            1  \n",
       "4                           2                            2  \n",
       "...                       ...                          ...  \n",
       "2993                        2                            0  \n",
       "2994                        1                            2  \n",
       "2995                        0                            0  \n",
       "2996                        1                            0  \n",
       "2997                        0                            2  \n",
       "\n",
       "[2998 rows x 10 columns]"
      ]
     },
     "execution_count": 32,
     "metadata": {},
     "output_type": "execute_result"
    }
   ],
   "source": [
    "df2"
   ]
  },
  {
   "cell_type": "markdown",
   "metadata": {
    "id": "iieFNiwff3Nv"
   },
   "source": [
    "**Creating functions and assigning values to the clusters**"
   ]
  },
  {
   "cell_type": "code",
   "execution_count": 33,
   "metadata": {
    "id": "3yN0RPPZMUiB"
   },
   "outputs": [],
   "source": [
    "def improve_english(cluster):\n",
    "    if cluster == 0:\n",
    "        return 'Needs Improvement'\n",
    "    elif cluster == 1:\n",
    "        return 'Does Not Need Improvement'\n",
    "    elif cluster == 2:\n",
    "        return 'A little more focus'"
   ]
  },
  {
   "cell_type": "code",
   "execution_count": 34,
   "metadata": {
    "id": "EPlrtqRGM0Iy"
   },
   "outputs": [],
   "source": [
    "df2['english_improvement_status'] = df2['EnglishCluster'].apply(improve_english)"
   ]
  },
  {
   "cell_type": "code",
   "execution_count": 35,
   "metadata": {
    "id": "uARvFRJJbcgc"
   },
   "outputs": [],
   "source": [
    "def improve_logicalreasoning(cluster):\n",
    "    if cluster == 0:\n",
    "        return 'Needs Improvement'\n",
    "    elif cluster == 1:\n",
    "        return 'Does Not Need Improvement'\n",
    "    elif cluster == 2:\n",
    "        return 'A little more focus'"
   ]
  },
  {
   "cell_type": "code",
   "execution_count": 36,
   "metadata": {
    "id": "zbmGLYuMbmh4"
   },
   "outputs": [],
   "source": [
    "df2['logicalreasoning_improvement_status'] = df2['LogicalReasoningCluster'].apply(improve_logicalreasoning)"
   ]
  },
  {
   "cell_type": "code",
   "execution_count": 37,
   "metadata": {
    "id": "jZvGVphzbulR"
   },
   "outputs": [],
   "source": [
    "def improve_quantitativeaptitude(cluster):\n",
    "    if cluster == 0:\n",
    "        return 'Needs Improvement'\n",
    "    elif cluster == 1:\n",
    "        return 'Does Not Need Improvement'\n",
    "    elif cluster == 2:\n",
    "        return 'A little more focus'"
   ]
  },
  {
   "cell_type": "code",
   "execution_count": 39,
   "metadata": {
    "id": "nB_1xhqyb3NZ"
   },
   "outputs": [],
   "source": [
    "df2['quantitativeaptitude_improvement_status'] = df2['QuantitativeAptitudeCluster'].apply(improve_quantitativeaptitude)"
   ]
  },
  {
   "cell_type": "code",
   "execution_count": 40,
   "metadata": {
    "colab": {
     "base_uri": "https://localhost:8080/",
     "height": 547
    },
    "id": "Uev1juSUb6sD",
    "outputId": "2e58d820-39ed-4538-924b-461f8c5a0fb1"
   },
   "outputs": [
    {
     "data": {
      "text/html": [
       "<div>\n",
       "<style scoped>\n",
       "    .dataframe tbody tr th:only-of-type {\n",
       "        vertical-align: middle;\n",
       "    }\n",
       "\n",
       "    .dataframe tbody tr th {\n",
       "        vertical-align: top;\n",
       "    }\n",
       "\n",
       "    .dataframe thead th {\n",
       "        text-align: right;\n",
       "    }\n",
       "</style>\n",
       "<table border=\"1\" class=\"dataframe\">\n",
       "  <thead>\n",
       "    <tr style=\"text-align: right;\">\n",
       "      <th></th>\n",
       "      <th>Student_ID</th>\n",
       "      <th>Gender</th>\n",
       "      <th>DegreeType</th>\n",
       "      <th>MajorSpecialization</th>\n",
       "      <th>EnglishScore</th>\n",
       "      <th>LogicalReasoningScore</th>\n",
       "      <th>QuantitativeAptitudeScore</th>\n",
       "      <th>EnglishCluster</th>\n",
       "      <th>LogicalReasoningCluster</th>\n",
       "      <th>QuantitativeAptitudeCluster</th>\n",
       "      <th>english_improvement_status</th>\n",
       "      <th>logicalreasoning_improvement_status</th>\n",
       "      <th>quantitativeaptitude_improvement_status</th>\n",
       "    </tr>\n",
       "  </thead>\n",
       "  <tbody>\n",
       "    <tr>\n",
       "      <th>0</th>\n",
       "      <td>604399</td>\n",
       "      <td>f</td>\n",
       "      <td>B.Tech/B.E.</td>\n",
       "      <td>instrumentation and control engineering</td>\n",
       "      <td>65.0</td>\n",
       "      <td>66.5</td>\n",
       "      <td>81.0</td>\n",
       "      <td>1</td>\n",
       "      <td>1</td>\n",
       "      <td>1</td>\n",
       "      <td>Does Not Need Improvement</td>\n",
       "      <td>Does Not Need Improvement</td>\n",
       "      <td>Does Not Need Improvement</td>\n",
       "    </tr>\n",
       "    <tr>\n",
       "      <th>1</th>\n",
       "      <td>988334</td>\n",
       "      <td>m</td>\n",
       "      <td>B.Tech/B.E.</td>\n",
       "      <td>computer science &amp; engineering</td>\n",
       "      <td>44.0</td>\n",
       "      <td>43.5</td>\n",
       "      <td>21.0</td>\n",
       "      <td>0</td>\n",
       "      <td>0</td>\n",
       "      <td>2</td>\n",
       "      <td>Needs Improvement</td>\n",
       "      <td>Needs Improvement</td>\n",
       "      <td>A little more focus</td>\n",
       "    </tr>\n",
       "    <tr>\n",
       "      <th>2</th>\n",
       "      <td>301647</td>\n",
       "      <td>m</td>\n",
       "      <td>B.Tech/B.E.</td>\n",
       "      <td>electronics &amp; telecommunications</td>\n",
       "      <td>48.5</td>\n",
       "      <td>47.5</td>\n",
       "      <td>50.5</td>\n",
       "      <td>2</td>\n",
       "      <td>2</td>\n",
       "      <td>0</td>\n",
       "      <td>A little more focus</td>\n",
       "      <td>A little more focus</td>\n",
       "      <td>Needs Improvement</td>\n",
       "    </tr>\n",
       "    <tr>\n",
       "      <th>3</th>\n",
       "      <td>582313</td>\n",
       "      <td>m</td>\n",
       "      <td>B.Tech/B.E.</td>\n",
       "      <td>computer science &amp; engineering</td>\n",
       "      <td>67.5</td>\n",
       "      <td>62.0</td>\n",
       "      <td>63.5</td>\n",
       "      <td>1</td>\n",
       "      <td>1</td>\n",
       "      <td>1</td>\n",
       "      <td>Does Not Need Improvement</td>\n",
       "      <td>Does Not Need Improvement</td>\n",
       "      <td>Does Not Need Improvement</td>\n",
       "    </tr>\n",
       "    <tr>\n",
       "      <th>4</th>\n",
       "      <td>339001</td>\n",
       "      <td>f</td>\n",
       "      <td>B.Tech/B.E.</td>\n",
       "      <td>biotechnology</td>\n",
       "      <td>57.5</td>\n",
       "      <td>49.5</td>\n",
       "      <td>36.5</td>\n",
       "      <td>1</td>\n",
       "      <td>2</td>\n",
       "      <td>2</td>\n",
       "      <td>Does Not Need Improvement</td>\n",
       "      <td>A little more focus</td>\n",
       "      <td>A little more focus</td>\n",
       "    </tr>\n",
       "    <tr>\n",
       "      <th>...</th>\n",
       "      <td>...</td>\n",
       "      <td>...</td>\n",
       "      <td>...</td>\n",
       "      <td>...</td>\n",
       "      <td>...</td>\n",
       "      <td>...</td>\n",
       "      <td>...</td>\n",
       "      <td>...</td>\n",
       "      <td>...</td>\n",
       "      <td>...</td>\n",
       "      <td>...</td>\n",
       "      <td>...</td>\n",
       "      <td>...</td>\n",
       "    </tr>\n",
       "    <tr>\n",
       "      <th>2993</th>\n",
       "      <td>103174</td>\n",
       "      <td>f</td>\n",
       "      <td>B.Tech/B.E.</td>\n",
       "      <td>electronics and communication engineering</td>\n",
       "      <td>50.5</td>\n",
       "      <td>48.5</td>\n",
       "      <td>44.5</td>\n",
       "      <td>2</td>\n",
       "      <td>2</td>\n",
       "      <td>0</td>\n",
       "      <td>A little more focus</td>\n",
       "      <td>A little more focus</td>\n",
       "      <td>Needs Improvement</td>\n",
       "    </tr>\n",
       "    <tr>\n",
       "      <th>2994</th>\n",
       "      <td>352811</td>\n",
       "      <td>f</td>\n",
       "      <td>B.Tech/B.E.</td>\n",
       "      <td>information technology</td>\n",
       "      <td>34.5</td>\n",
       "      <td>58.5</td>\n",
       "      <td>39.5</td>\n",
       "      <td>0</td>\n",
       "      <td>1</td>\n",
       "      <td>2</td>\n",
       "      <td>Needs Improvement</td>\n",
       "      <td>Does Not Need Improvement</td>\n",
       "      <td>A little more focus</td>\n",
       "    </tr>\n",
       "    <tr>\n",
       "      <th>2995</th>\n",
       "      <td>287070</td>\n",
       "      <td>m</td>\n",
       "      <td>B.Tech/B.E.</td>\n",
       "      <td>information technology</td>\n",
       "      <td>38.5</td>\n",
       "      <td>42.5</td>\n",
       "      <td>48.5</td>\n",
       "      <td>0</td>\n",
       "      <td>0</td>\n",
       "      <td>0</td>\n",
       "      <td>Needs Improvement</td>\n",
       "      <td>Needs Improvement</td>\n",
       "      <td>Needs Improvement</td>\n",
       "    </tr>\n",
       "    <tr>\n",
       "      <th>2996</th>\n",
       "      <td>317336</td>\n",
       "      <td>m</td>\n",
       "      <td>B.Tech/B.E.</td>\n",
       "      <td>computer engineering</td>\n",
       "      <td>46.5</td>\n",
       "      <td>64.5</td>\n",
       "      <td>50.5</td>\n",
       "      <td>2</td>\n",
       "      <td>1</td>\n",
       "      <td>0</td>\n",
       "      <td>A little more focus</td>\n",
       "      <td>Does Not Need Improvement</td>\n",
       "      <td>Needs Improvement</td>\n",
       "    </tr>\n",
       "    <tr>\n",
       "      <th>2997</th>\n",
       "      <td>993701</td>\n",
       "      <td>m</td>\n",
       "      <td>B.Tech/B.E.</td>\n",
       "      <td>information technology</td>\n",
       "      <td>37.0</td>\n",
       "      <td>39.0</td>\n",
       "      <td>28.5</td>\n",
       "      <td>0</td>\n",
       "      <td>0</td>\n",
       "      <td>2</td>\n",
       "      <td>Needs Improvement</td>\n",
       "      <td>Needs Improvement</td>\n",
       "      <td>A little more focus</td>\n",
       "    </tr>\n",
       "  </tbody>\n",
       "</table>\n",
       "<p>2998 rows × 13 columns</p>\n",
       "</div>"
      ],
      "text/plain": [
       "      Student_ID Gender   DegreeType  \\\n",
       "0         604399      f  B.Tech/B.E.   \n",
       "1         988334      m  B.Tech/B.E.   \n",
       "2         301647      m  B.Tech/B.E.   \n",
       "3         582313      m  B.Tech/B.E.   \n",
       "4         339001      f  B.Tech/B.E.   \n",
       "...          ...    ...          ...   \n",
       "2993      103174      f  B.Tech/B.E.   \n",
       "2994      352811      f  B.Tech/B.E.   \n",
       "2995      287070      m  B.Tech/B.E.   \n",
       "2996      317336      m  B.Tech/B.E.   \n",
       "2997      993701      m  B.Tech/B.E.   \n",
       "\n",
       "                            MajorSpecialization  EnglishScore  \\\n",
       "0       instrumentation and control engineering          65.0   \n",
       "1                computer science & engineering          44.0   \n",
       "2              electronics & telecommunications          48.5   \n",
       "3                computer science & engineering          67.5   \n",
       "4                                 biotechnology          57.5   \n",
       "...                                         ...           ...   \n",
       "2993  electronics and communication engineering          50.5   \n",
       "2994                     information technology          34.5   \n",
       "2995                     information technology          38.5   \n",
       "2996                       computer engineering          46.5   \n",
       "2997                     information technology          37.0   \n",
       "\n",
       "      LogicalReasoningScore  QuantitativeAptitudeScore  EnglishCluster  \\\n",
       "0                      66.5                       81.0               1   \n",
       "1                      43.5                       21.0               0   \n",
       "2                      47.5                       50.5               2   \n",
       "3                      62.0                       63.5               1   \n",
       "4                      49.5                       36.5               1   \n",
       "...                     ...                        ...             ...   \n",
       "2993                   48.5                       44.5               2   \n",
       "2994                   58.5                       39.5               0   \n",
       "2995                   42.5                       48.5               0   \n",
       "2996                   64.5                       50.5               2   \n",
       "2997                   39.0                       28.5               0   \n",
       "\n",
       "      LogicalReasoningCluster  QuantitativeAptitudeCluster  \\\n",
       "0                           1                            1   \n",
       "1                           0                            2   \n",
       "2                           2                            0   \n",
       "3                           1                            1   \n",
       "4                           2                            2   \n",
       "...                       ...                          ...   \n",
       "2993                        2                            0   \n",
       "2994                        1                            2   \n",
       "2995                        0                            0   \n",
       "2996                        1                            0   \n",
       "2997                        0                            2   \n",
       "\n",
       "     english_improvement_status logicalreasoning_improvement_status  \\\n",
       "0     Does Not Need Improvement           Does Not Need Improvement   \n",
       "1             Needs Improvement                   Needs Improvement   \n",
       "2           A little more focus                 A little more focus   \n",
       "3     Does Not Need Improvement           Does Not Need Improvement   \n",
       "4     Does Not Need Improvement                 A little more focus   \n",
       "...                         ...                                 ...   \n",
       "2993        A little more focus                 A little more focus   \n",
       "2994          Needs Improvement           Does Not Need Improvement   \n",
       "2995          Needs Improvement                   Needs Improvement   \n",
       "2996        A little more focus           Does Not Need Improvement   \n",
       "2997          Needs Improvement                   Needs Improvement   \n",
       "\n",
       "     quantitativeaptitude_improvement_status  \n",
       "0                  Does Not Need Improvement  \n",
       "1                        A little more focus  \n",
       "2                          Needs Improvement  \n",
       "3                  Does Not Need Improvement  \n",
       "4                        A little more focus  \n",
       "...                                      ...  \n",
       "2993                       Needs Improvement  \n",
       "2994                     A little more focus  \n",
       "2995                       Needs Improvement  \n",
       "2996                       Needs Improvement  \n",
       "2997                     A little more focus  \n",
       "\n",
       "[2998 rows x 13 columns]"
      ]
     },
     "execution_count": 40,
     "metadata": {},
     "output_type": "execute_result"
    }
   ],
   "source": [
    "df2"
   ]
  },
  {
   "cell_type": "markdown",
   "metadata": {
    "id": "MeZ45ZucgFbN"
   },
   "source": [
    "**Sample User Input data for the subject scores**"
   ]
  },
  {
   "cell_type": "code",
   "execution_count": 41,
   "metadata": {
    "colab": {
     "base_uri": "https://localhost:8080/"
    },
    "id": "ysAs-6W1b_Ro",
    "outputId": "6c7b3918-421b-4a8f-c7ed-3cb3fc51d32e"
   },
   "outputs": [
    {
     "name": "stdout",
     "output_type": "stream",
     "text": [
      "Enter your English score: 75\n",
      "Enter your Logical Reasoning score: 45\n",
      "Enter your Quantitative Aptitude score: 23\n"
     ]
    }
   ],
   "source": [
    "#User input for the subject scores\n",
    "user_english_score = float(input(\"Enter your English score: \"))\n",
    "user_logicalreasoning_score = float(input('Enter your Logical Reasoning score: '))\n",
    "user_aptitude_score = float(input('Enter your Quantitative Aptitude score: '))"
   ]
  },
  {
   "cell_type": "code",
   "execution_count": 42,
   "metadata": {
    "colab": {
     "base_uri": "https://localhost:8080/"
    },
    "id": "H5m7V7cYcEa7",
    "outputId": "5e9dece8-d4c0-46cd-f350-8d8089a1a30f"
   },
   "outputs": [
    {
     "name": "stderr",
     "output_type": "stream",
     "text": [
      "C:\\Python310\\lib\\site-packages\\sklearn\\base.py:439: UserWarning: X does not have valid feature names, but KMeans was fitted with feature names\n",
      "  warnings.warn(\n",
      "C:\\Python310\\lib\\site-packages\\sklearn\\base.py:439: UserWarning: X does not have valid feature names, but KMeans was fitted with feature names\n",
      "  warnings.warn(\n",
      "C:\\Python310\\lib\\site-packages\\sklearn\\base.py:439: UserWarning: X does not have valid feature names, but KMeans was fitted with feature names\n",
      "  warnings.warn(\n"
     ]
    }
   ],
   "source": [
    "#Predict the cluster for User's subject score\n",
    "user_english_cluster = kmeans_english.predict([[user_english_score]])[0]\n",
    "user_logicalreasoning_cluster = kmeans_logical.predict([[user_logicalreasoning_score]])[0]\n",
    "user_quantitativeaptitude_cluster = kmeans_quantitative.predict([[user_aptitude_score]])[0]"
   ]
  },
  {
   "cell_type": "code",
   "execution_count": 43,
   "metadata": {
    "colab": {
     "base_uri": "https://localhost:8080/"
    },
    "id": "RIXeKnnGcOt-",
    "outputId": "69a72235-3f44-40b6-9f90-f57bd6e943db"
   },
   "outputs": [
    {
     "name": "stdout",
     "output_type": "stream",
     "text": [
      "English Improvement Status: Does Not Need Improvement\n",
      "Logical Reasoning Improvement Status: A little more focus\n",
      "Quantitative Aptitude Improvement Status: A little more focus\n"
     ]
    }
   ],
   "source": [
    "#Displaying the Improvement Status for User's subject score\n",
    "print(f\"English Improvement Status: {improve_english(user_english_cluster)}\")\n",
    "print(f\"Logical Reasoning Improvement Status: {improve_logicalreasoning(user_logicalreasoning_cluster)}\")\n",
    "print(f\"Quantitative Aptitude Improvement Status: {improve_quantitativeaptitude(user_quantitativeaptitude_cluster)}\")"
   ]
  },
  {
   "cell_type": "code",
   "execution_count": 51,
   "metadata": {
    "id": "pJv0Ukw2RP5W"
   },
   "outputs": [],
   "source": [
    "# exporting the trained dataset\n",
    "df2.to_csv(r\"C:\\Users\\DELL\\Desktop\\MLproject\\trained_dataset.csv\", index=False)"
   ]
  }
 ],
 "metadata": {
  "colab": {
   "provenance": []
  },
  "kernelspec": {
   "display_name": "Python 3 (ipykernel)",
   "language": "python",
   "name": "python3"
  },
  "language_info": {
   "codemirror_mode": {
    "name": "ipython",
    "version": 3
   },
   "file_extension": ".py",
   "mimetype": "text/x-python",
   "name": "python",
   "nbconvert_exporter": "python",
   "pygments_lexer": "ipython3",
   "version": "3.10.7"
  }
 },
 "nbformat": 4,
 "nbformat_minor": 1
}
